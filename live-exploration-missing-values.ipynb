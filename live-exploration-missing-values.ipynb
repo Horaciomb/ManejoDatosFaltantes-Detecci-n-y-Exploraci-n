{
 "cells": [
  {
   "cell_type": "markdown",
   "metadata": {
    "cell_id": "f1a71508947542f3bc6701e156c8716b",
    "deepnote_app_coordinates": {
     "h": 5,
     "w": 12,
     "x": 0,
     "y": 1
    },
    "deepnote_cell_type": "markdown",
    "tags": []
   },
   "source": [
    "# Curso de Manejo de Datos Faltantes: Detección y Exploración\n",
    "\n",
    "[![Curso creado por jvelezmagic](https://img.shields.io/badge/Desarrollado%20por-%40jvelezmagic-blue?&style=for-the-badge&logo=data:image/png;base64,iVBORw0KGgoAAAANSUhEUgAAACAAAAAgCAYAAABzenr0AAAAAXNSR0IArs4c6QAABdNJREFUWEedWGtsFFUUPudOu7tUts0SEKiBdMtLKCnhsW1FEml5BjT0B7u0oIYt0WjUKNGEpqASDG00hpD4w5ggoEBLF4T6isGigJEU2golSLfLY7cVIxoIKX3v6x69O/uYnZ3ZNs6Pzs7cc8/9zjnf/c7cIgACIIG4xE3+Fb0QVC+0BmNG8j3yFwltDd07kKAUwvyT1udnfKecqfYiltZZKS2C+Dyllfi9pN63FgF+iLgFGMac0JTL62b1aYGImCAgUAy9nlVSavTikTHZjnmfQ8RvolYBScqY2uKY/lArxTJGOW8pWRgtfn0YogQ9HyHQO5KEW1ocefXxZVTVlQFEMYj7WANVLy4cPfsXZX2bi0NirOgL92wwmDwPc4Km2+tm+5PtE6GJ7Cevqi7oGFE53P4aAvgAkC7ev2csG+rpygejyZOZNT774oZJ/aOQUMXDtJyM7hqRKoWdvdN/ExBmyQsFC3ta7/pFBoIjYLnqtPZquxTxK/yloVbKkNqh3T3yJgDuI6KLE4aMK67d6LKSweQJjIClw2ntTThInhnngJokCXJqVDvig2B9da8lyKQnfqw1/y6sHG6/Dwi2u+YZm2QOGD2BYbR0VOllQE6iBi8pMZKGlat2DrQD0CICvvTs3pxLqQASJUjDgf8rQgCra/pPE8AaRrToTF12VwQAwPYTc41NtsPu2YKEgRGydDjz4yVQ6GUsyWPY7eqdEU1Q2a6+csbx/eZa88JYCTBaghLX3Zk8HLrlj3FAZ5kkDijTlGKf9EJ+WKEBIMaBkkO+PG4CX2AYLB3b8nsFZ7Qw6AAYmyrGAdSZFwoF2+T2+4hou6vA1PTUQV9eWABQ7ALECHcVlyxDyTTUkWUtEq14t6+chZNLEMlAgbGp5GA0A1EAqVWUO5BuCfT2rRLImEowApZrzvxe0ey0LpGV9Pofg6jRrFZV99tBgprmvQkSanKgKiZEyh4gr6vKwKhwkhKzcsegkzF6vbl2/GLhTGxDzuGtkwXGr+MkVG1DDVkbRYDVnIhjRFhV8+gIAAs11453Ci8b3f4eRrTNNc90dunhWzNCxozbA9KQudNRMKC3w6LdUG+DROumGhaPq3cNrOScvuecLfvpw8fatnrJNDgc6OOZWPzVLMPVJY235zMuXW+ttKZ2XEUf0ydhvPYRxdvNkXKBsU+BKIcRrieiN4h49dm6nP0iOnuXfwMQHLz/d+bkC6UsVNzgK+ZAv7RW5hvTdTJ5mViEGolYvtVrysyd1E8AGQgQAKRBINbOMnjdmT3Z58RceyNJUBhsQaBzrieNO4RLW/0dJyJ7u7XSOj9dkbUzoIheTF65s2+DxOHxM3XmA/FPaIVXhzvwMSI5/EZDYZMVewWoonpfIxE9aNuc/5pOu4vHngYgwvJzXtPEqdPW8EDo+qlCk1c2lhHar/RNonGG/QiwljEsa5xjuCaGnq7/IzcIYR8iPHO5wnpJdwHxLaK1LZSSYe8cOg4obQKAR8jpPc6YnwGaCbiQ33JC6MAAVZ1YYPLEfBU1eL8kgGntlTNKkwRIldlEKGlyYO8MtBBSSZQsvwFAgID3I8BN4HT6REHWz0opsx3r3oKMDjDERZcq8tzqDqSmWRSTvgDZbwwVAWPVBNKvJ+dm7lPXU4l9SUPPRgb8KAK8dLnSekT/wJMs9Drxy6AWH+mear7jvX9+d1koVv/IMUaBufjorWxgGXsI4RVCeLWtwnootng6bRVjil6Qalp0vPsoEN8ChJ4wBJZd2TznQYwfiz9rz5IsExcAp3IgrAKkPynEX257YWYbkl7rSY41AiBxMEsWS5vLOwXDcC/+ljAMyAcJkSOBEJdx4twHRBcApc9bPdNP4W7kygaj7n+xI2Dcp9YuiOuSyyUVhW3XAWCuIB4j6UUIh/+BDBgOhkJBY6bxkWHytJ7zpRgtTTq50R+L63RyAeSnEtfdCRQOrg8jv9peMTPy6a19RWfrFVzzPQL+9/+AfwFcE7pJR1xCFAAAAABJRU5ErkJggg==)](https://jvelezmagic.com/)\n",
    "\n"
   ]
  },
  {
   "cell_type": "markdown",
   "metadata": {
    "cell_id": "7c82e43ecd9a417f8c34de8d062e772b",
    "deepnote_app_coordinates": {
     "h": 5,
     "w": 12,
     "x": 0,
     "y": 13
    },
    "deepnote_cell_type": "markdown",
    "owner_user_id": "bc32f83c-a807-4a78-8769-dff22df5fe36",
    "tags": []
   },
   "source": [
    "## Configuración de ambiente de trabajo"
   ]
  },
  {
   "cell_type": "markdown",
   "metadata": {
    "cell_id": "f4ffad1587524a1991aaf4f6fdf560dc",
    "deepnote_app_coordinates": {
     "h": 5,
     "w": 12,
     "x": 0,
     "y": 19
    },
    "deepnote_cell_type": "markdown",
    "tags": []
   },
   "source": [
    "```bash\n",
    "pip install --upgrade pip\n",
    "```"
   ]
  },
  {
   "cell_type": "markdown",
   "metadata": {
    "cell_id": "dab74e66ab3b4030887ebfcc4da6eb27",
    "deepnote_app_coordinates": {
     "h": 5,
     "w": 12,
     "x": 0,
     "y": 25
    },
    "deepnote_cell_type": "markdown",
    "tags": []
   },
   "source": [
    "```bash\n",
    "pip install pyjanitor matplotlib==3.5.1 missingno numpy pandas pyreadr seaborn session-info upsetplot==0.6.1\n",
    "```\n",
    "\n",
    "or \n",
    "\n",
    "```bash\n",
    "pip install -r requirements.txt\n",
    "```"
   ]
  },
  {
   "cell_type": "markdown",
   "metadata": {
    "cell_id": "849fe72dd0be49798c77489e1951604e",
    "deepnote_app_coordinates": {
     "h": 5,
     "w": 12,
     "x": 0,
     "y": 31
    },
    "deepnote_cell_type": "markdown",
    "tags": []
   },
   "source": [
    "## Importar librerías"
   ]
  },
  {
   "cell_type": "code",
   "execution_count": 1,
   "metadata": {
    "cell_id": "75b2627383ca4b1ba27ee97d5abb42ea",
    "deepnote_app_coordinates": {
     "h": 5,
     "w": 12,
     "x": 0,
     "y": 37
    },
    "deepnote_cell_type": "code",
    "deepnote_to_be_reexecuted": false,
    "execution_millis": 1,
    "execution_start": 1659569213615,
    "output_cleared": true,
    "source_hash": "32e1477e",
    "tags": []
   },
   "outputs": [],
   "source": [
    "import janitor\n",
    "import matplotlib.pyplot as plt\n",
    "import missingno\n",
    "import numpy as np\n",
    "import pandas as pd\n",
    "import pyreadr\n",
    "import seaborn as sns\n",
    "import session_info\n",
    "import upsetplot"
   ]
  },
  {
   "cell_type": "markdown",
   "metadata": {
    "cell_id": "2c36e1b1eb474062a19b8193644f6131",
    "deepnote_app_coordinates": {
     "h": 5,
     "w": 12,
     "x": 0,
     "y": 43
    },
    "deepnote_cell_type": "markdown",
    "tags": []
   },
   "source": [
    "## Importar funciones personalizadas"
   ]
  },
  {
   "cell_type": "code",
   "execution_count": 2,
   "metadata": {
    "cell_id": "0d85b6e5d33943f8a48253ce605be37d",
    "deepnote_app_coordinates": {
     "h": 5,
     "w": 12,
     "x": 0,
     "y": 49
    },
    "deepnote_cell_type": "code",
    "deepnote_to_be_reexecuted": false,
    "execution_millis": 4,
    "execution_start": 1659569098462,
    "output_cleared": true,
    "source_hash": "b623e53d",
    "tags": []
   },
   "outputs": [],
   "source": [
    "%run pandas-missing-extension.ipynb"
   ]
  },
  {
   "cell_type": "markdown",
   "metadata": {
    "cell_id": "33f565906dc146909d0c5b16eec957be",
    "deepnote_app_coordinates": {
     "h": 5,
     "w": 12,
     "x": 0,
     "y": 55
    },
    "deepnote_cell_type": "markdown",
    "tags": []
   },
   "source": [
    "## Configurar el aspecto general de las gráficas del proyecto"
   ]
  },
  {
   "cell_type": "code",
   "execution_count": 3,
   "metadata": {
    "cell_id": "33e5eaad0917441da2560ba20927741f",
    "deepnote_app_coordinates": {
     "h": 5,
     "w": 12,
     "x": 0,
     "y": 61
    },
    "deepnote_cell_type": "code",
    "deepnote_to_be_reexecuted": false,
    "execution_millis": 15,
    "execution_start": 1659569098469,
    "output_cleared": true,
    "source_hash": "b1a70c28",
    "tags": []
   },
   "outputs": [],
   "source": [
    "%matplotlib inline\n",
    "\n",
    "sns.set(\n",
    "    rc={\n",
    "        \"figure.figsize\": (10, 10)\n",
    "    }\n",
    ")\n",
    "\n",
    "sns.set_style(\"whitegrid\")"
   ]
  },
  {
   "cell_type": "markdown",
   "metadata": {
    "cell_id": "4b81b7e1fb6344d1b30bdb606b73e6b7",
    "deepnote_app_coordinates": {
     "h": 5,
     "w": 12,
     "x": 0,
     "y": 67
    },
    "deepnote_cell_type": "markdown",
    "tags": []
   },
   "source": [
    "## Operar con valores faltantes"
   ]
  },
  {
   "cell_type": "markdown",
   "metadata": {
    "cell_id": "f374b01f6261499faa59a5aa14d59b9b",
    "deepnote_app_coordinates": {
     "h": 5,
     "w": 12,
     "x": 0,
     "y": 73
    },
    "deepnote_cell_type": "markdown",
    "tags": []
   },
   "source": [
    "### Python"
   ]
  },
  {
   "cell_type": "code",
   "execution_count": 4,
   "metadata": {
    "cell_id": "419c66e043234760933f22764df96e62",
    "deepnote_cell_type": "code",
    "deepnote_to_be_reexecuted": false,
    "execution_millis": 14,
    "execution_start": 1659569098491,
    "output_cleared": true,
    "source_hash": "3bdb3a46",
    "tags": []
   },
   "outputs": [
    {
     "name": "stdout",
     "output_type": "stream",
     "text": [
      "True\n",
      "False\n",
      "True\n",
      "True\n",
      "<class 'NoneType'>\n"
     ]
    }
   ],
   "source": [
    "print(\n",
    "    None or True,\n",
    "    None or False,\n",
    "    None == None,\n",
    "    None is None,\n",
    "    type(None),\n",
    "    sep=\"\\n\"\n",
    " )"
   ]
  },
  {
   "cell_type": "markdown",
   "metadata": {
    "cell_id": "29d6b10a5c1e44acb4df4e91736f609b",
    "deepnote_app_coordinates": {
     "h": 5,
     "w": 12,
     "x": 0,
     "y": 85
    },
    "deepnote_cell_type": "markdown",
    "tags": []
   },
   "source": [
    "### NumPy"
   ]
  },
  {
   "cell_type": "code",
   "execution_count": 5,
   "metadata": {
    "cell_id": "0bb62afcf6c14baba800385bf2efda8a",
    "deepnote_cell_type": "code",
    "deepnote_to_be_reexecuted": false,
    "execution_millis": 106,
    "execution_start": 1659569098501,
    "output_cleared": true,
    "source_hash": "adbc52b7",
    "tags": []
   },
   "outputs": [
    {
     "name": "stdout",
     "output_type": "stream",
     "text": [
      "nan\n",
      "False\n",
      "True\n"
     ]
    }
   ],
   "source": [
    "print(\n",
    "    np.nan or True,\n",
    "    np.nan == np.nan,\n",
    "    np.nan is np.nan,\n",
    "    sep=\"\\n\"    \n",
    ")"
   ]
  },
  {
   "cell_type": "markdown",
   "metadata": {
    "cell_id": "12e0c18ed40e490fae21958792bd85bd",
    "deepnote_app_coordinates": {
     "h": 5,
     "w": 12,
     "x": 0,
     "y": 97
    },
    "deepnote_cell_type": "markdown",
    "tags": []
   },
   "source": [
    "### Pandas"
   ]
  },
  {
   "cell_type": "code",
   "execution_count": 6,
   "metadata": {
    "cell_id": "fd3fd540319542da83b23c632e1f0c6d",
    "deepnote_app_coordinates": {
     "h": 5,
     "w": 12,
     "x": 0,
     "y": 103
    },
    "deepnote_cell_type": "code",
    "deepnote_to_be_reexecuted": false,
    "execution_millis": 62,
    "execution_start": 1659569098545,
    "output_cleared": true,
    "source_hash": "4c3b9b7c",
    "tags": []
   },
   "outputs": [
    {
     "data": {
      "text/html": [
       "<div>\n",
       "<style scoped>\n",
       "    .dataframe tbody tr th:only-of-type {\n",
       "        vertical-align: middle;\n",
       "    }\n",
       "\n",
       "    .dataframe tbody tr th {\n",
       "        vertical-align: top;\n",
       "    }\n",
       "\n",
       "    .dataframe thead th {\n",
       "        text-align: right;\n",
       "    }\n",
       "</style>\n",
       "<table border=\"1\" class=\"dataframe\">\n",
       "  <thead>\n",
       "    <tr style=\"text-align: right;\">\n",
       "      <th></th>\n",
       "      <th>x</th>\n",
       "      <th>y</th>\n",
       "    </tr>\n",
       "  </thead>\n",
       "  <tbody>\n",
       "    <tr>\n",
       "      <th>0</th>\n",
       "      <td>0.0</td>\n",
       "      <td>0</td>\n",
       "    </tr>\n",
       "    <tr>\n",
       "      <th>1</th>\n",
       "      <td>1.0</td>\n",
       "      <td>1</td>\n",
       "    </tr>\n",
       "    <tr>\n",
       "      <th>2</th>\n",
       "      <td>NaN</td>\n",
       "      <td>&lt;NA&gt;</td>\n",
       "    </tr>\n",
       "    <tr>\n",
       "      <th>3</th>\n",
       "      <td>NaN</td>\n",
       "      <td>NaN</td>\n",
       "    </tr>\n",
       "    <tr>\n",
       "      <th>4</th>\n",
       "      <td>NaN</td>\n",
       "      <td>None</td>\n",
       "    </tr>\n",
       "  </tbody>\n",
       "</table>\n",
       "</div>"
      ],
      "text/plain": [
       "     x     y\n",
       "0  0.0     0\n",
       "1  1.0     1\n",
       "2  NaN  <NA>\n",
       "3  NaN   NaN\n",
       "4  NaN  None"
      ]
     },
     "execution_count": 6,
     "metadata": {},
     "output_type": "execute_result"
    }
   ],
   "source": [
    "test_missing_df= pd.DataFrame.from_dict(\n",
    "    data=dict(\n",
    "        x=[0,1,np.nan, np.nan, None],\n",
    "        y=[0,1,pd.NA,np.nan,None]\n",
    "    )\n",
    ")\n",
    "test_missing_df"
   ]
  },
  {
   "cell_type": "code",
   "execution_count": 7,
   "metadata": {
    "cell_id": "65b87570537f4b488d8b7c08435794eb",
    "deepnote_app_coordinates": {
     "h": 5,
     "w": 12,
     "x": 0,
     "y": 109
    },
    "deepnote_cell_type": "code",
    "deepnote_to_be_reexecuted": false,
    "execution_millis": 61,
    "execution_start": 1659569098546,
    "output_cleared": true,
    "source_hash": "4e713434",
    "tags": []
   },
   "outputs": [
    {
     "data": {
      "text/html": [
       "<div>\n",
       "<style scoped>\n",
       "    .dataframe tbody tr th:only-of-type {\n",
       "        vertical-align: middle;\n",
       "    }\n",
       "\n",
       "    .dataframe tbody tr th {\n",
       "        vertical-align: top;\n",
       "    }\n",
       "\n",
       "    .dataframe thead th {\n",
       "        text-align: right;\n",
       "    }\n",
       "</style>\n",
       "<table border=\"1\" class=\"dataframe\">\n",
       "  <thead>\n",
       "    <tr style=\"text-align: right;\">\n",
       "      <th></th>\n",
       "      <th>x</th>\n",
       "      <th>y</th>\n",
       "    </tr>\n",
       "  </thead>\n",
       "  <tbody>\n",
       "    <tr>\n",
       "      <th>0</th>\n",
       "      <td>False</td>\n",
       "      <td>False</td>\n",
       "    </tr>\n",
       "    <tr>\n",
       "      <th>1</th>\n",
       "      <td>False</td>\n",
       "      <td>False</td>\n",
       "    </tr>\n",
       "    <tr>\n",
       "      <th>2</th>\n",
       "      <td>True</td>\n",
       "      <td>True</td>\n",
       "    </tr>\n",
       "    <tr>\n",
       "      <th>3</th>\n",
       "      <td>True</td>\n",
       "      <td>True</td>\n",
       "    </tr>\n",
       "    <tr>\n",
       "      <th>4</th>\n",
       "      <td>True</td>\n",
       "      <td>True</td>\n",
       "    </tr>\n",
       "  </tbody>\n",
       "</table>\n",
       "</div>"
      ],
      "text/plain": [
       "       x      y\n",
       "0  False  False\n",
       "1  False  False\n",
       "2   True   True\n",
       "3   True   True\n",
       "4   True   True"
      ]
     },
     "execution_count": 7,
     "metadata": {},
     "output_type": "execute_result"
    }
   ],
   "source": [
    "test_missing_df.isna()"
   ]
  },
  {
   "cell_type": "code",
   "execution_count": 8,
   "metadata": {
    "cell_id": "a1967cd6ac4b4583b217cefb8a837756",
    "deepnote_app_coordinates": {
     "h": 5,
     "w": 12,
     "x": 0,
     "y": 115
    },
    "deepnote_cell_type": "code",
    "deepnote_to_be_reexecuted": false,
    "execution_millis": 54,
    "execution_start": 1659569098553,
    "output_cleared": true,
    "source_hash": "300619c5",
    "tags": []
   },
   "outputs": [
    {
     "data": {
      "text/html": [
       "<div>\n",
       "<style scoped>\n",
       "    .dataframe tbody tr th:only-of-type {\n",
       "        vertical-align: middle;\n",
       "    }\n",
       "\n",
       "    .dataframe tbody tr th {\n",
       "        vertical-align: top;\n",
       "    }\n",
       "\n",
       "    .dataframe thead th {\n",
       "        text-align: right;\n",
       "    }\n",
       "</style>\n",
       "<table border=\"1\" class=\"dataframe\">\n",
       "  <thead>\n",
       "    <tr style=\"text-align: right;\">\n",
       "      <th></th>\n",
       "      <th>x</th>\n",
       "      <th>y</th>\n",
       "    </tr>\n",
       "  </thead>\n",
       "  <tbody>\n",
       "    <tr>\n",
       "      <th>0</th>\n",
       "      <td>False</td>\n",
       "      <td>False</td>\n",
       "    </tr>\n",
       "    <tr>\n",
       "      <th>1</th>\n",
       "      <td>False</td>\n",
       "      <td>False</td>\n",
       "    </tr>\n",
       "    <tr>\n",
       "      <th>2</th>\n",
       "      <td>True</td>\n",
       "      <td>True</td>\n",
       "    </tr>\n",
       "    <tr>\n",
       "      <th>3</th>\n",
       "      <td>True</td>\n",
       "      <td>True</td>\n",
       "    </tr>\n",
       "    <tr>\n",
       "      <th>4</th>\n",
       "      <td>True</td>\n",
       "      <td>True</td>\n",
       "    </tr>\n",
       "  </tbody>\n",
       "</table>\n",
       "</div>"
      ],
      "text/plain": [
       "       x      y\n",
       "0  False  False\n",
       "1  False  False\n",
       "2   True   True\n",
       "3   True   True\n",
       "4   True   True"
      ]
     },
     "execution_count": 8,
     "metadata": {},
     "output_type": "execute_result"
    }
   ],
   "source": [
    "test_missing_df.isnull()"
   ]
  },
  {
   "cell_type": "code",
   "execution_count": 9,
   "metadata": {
    "cell_id": "eedb743157cd45449bcd16290ea64e21",
    "deepnote_app_coordinates": {
     "h": 5,
     "w": 12,
     "x": 0,
     "y": 121
    },
    "deepnote_cell_type": "code",
    "deepnote_to_be_reexecuted": false,
    "execution_millis": 34,
    "execution_start": 1659569098573,
    "output_cleared": true,
    "source_hash": "26fe66f2",
    "tags": []
   },
   "outputs": [
    {
     "data": {
      "text/plain": [
       "0    False\n",
       "1    False\n",
       "2     True\n",
       "3     True\n",
       "4     True\n",
       "Name: x, dtype: bool"
      ]
     },
     "execution_count": 9,
     "metadata": {},
     "output_type": "execute_result"
    }
   ],
   "source": [
    "test_missing_df.x.isnull()"
   ]
  },
  {
   "cell_type": "code",
   "execution_count": 10,
   "metadata": {
    "cell_id": "0bfdc777b37d4954865baabc59e9c311",
    "deepnote_app_coordinates": {
     "h": 5,
     "w": 12,
     "x": 0,
     "y": 127
    },
    "deepnote_cell_type": "code",
    "deepnote_to_be_reexecuted": false,
    "execution_millis": 28,
    "execution_start": 1659569098579,
    "output_cleared": true,
    "source_hash": "4a835b15",
    "tags": []
   },
   "outputs": [
    {
     "data": {
      "text/plain": [
       "0    1.0\n",
       "1    NaN\n",
       "dtype: float64"
      ]
     },
     "execution_count": 10,
     "metadata": {},
     "output_type": "execute_result"
    }
   ],
   "source": [
    "pd.Series([1,np.nan])"
   ]
  },
  {
   "cell_type": "code",
   "execution_count": 11,
   "metadata": {
    "cell_id": "5430f3bdac0a4d01ae67bc9da27575ea",
    "deepnote_app_coordinates": {
     "h": 5,
     "w": 12,
     "x": 0,
     "y": 133
    },
    "deepnote_cell_type": "code",
    "deepnote_to_be_reexecuted": false,
    "execution_millis": 18,
    "execution_start": 1659569098589,
    "output_cleared": true,
    "source_hash": "c0acc8f",
    "tags": []
   },
   "outputs": [
    {
     "data": {
      "text/plain": [
       "0   2025-01-01\n",
       "1          NaT\n",
       "dtype: datetime64[ns]"
      ]
     },
     "execution_count": 11,
     "metadata": {},
     "output_type": "execute_result"
    }
   ],
   "source": [
    "pd.Series([pd.to_datetime(\"2025-01-01\"),np.nan])"
   ]
  },
  {
   "cell_type": "code",
   "execution_count": 12,
   "metadata": {
    "cell_id": "8c85dd8318c34d46aba2a9cfa0e7dcd5",
    "deepnote_cell_type": "code",
    "deepnote_to_be_reexecuted": false,
    "execution_millis": 17,
    "execution_start": 1659569098594,
    "output_cleared": true,
    "source_hash": "46a2b8e",
    "tags": []
   },
   "outputs": [
    {
     "data": {
      "text/plain": [
       "0    False\n",
       "dtype: bool"
      ]
     },
     "execution_count": 12,
     "metadata": {},
     "output_type": "execute_result"
    }
   ],
   "source": [
    "pd.Series([-1]).isnull()"
   ]
  },
  {
   "cell_type": "markdown",
   "metadata": {
    "cell_id": "4609f4a26dc644b6a20acedd9f83f246",
    "deepnote_app_coordinates": {
     "h": 5,
     "w": 12,
     "x": 0,
     "y": 139
    },
    "deepnote_cell_type": "markdown",
    "tags": []
   },
   "source": [
    "## Cargar los conjuntos de datos"
   ]
  },
  {
   "cell_type": "markdown",
   "metadata": {
    "cell_id": "6cb4e23d662b4f57b1464917d037e2e0",
    "deepnote_app_coordinates": {
     "h": 5,
     "w": 12,
     "x": 0,
     "y": 0
    },
    "deepnote_cell_type": "markdown",
    "tags": []
   },
   "source": [
    "### Pima Indians Diabetes"
   ]
  },
  {
   "cell_type": "code",
   "execution_count": 13,
   "metadata": {
    "cell_id": "a294a6b7418b40b4b16b96eadf47a750",
    "deepnote_cell_type": "code",
    "deepnote_to_be_reexecuted": false,
    "execution_millis": 4,
    "execution_start": 1659569255619,
    "output_cleared": true,
    "source_hash": "48868b4",
    "tags": []
   },
   "outputs": [],
   "source": [
    "prima_indias_diabtetes_url=\"https://nrvis.com/data/mldata/pima-indians-diabetes.csv\""
   ]
  },
  {
   "cell_type": "code",
   "execution_count": 14,
   "metadata": {
    "cell_id": "7a06812962c640fda50bf3fc9ddd8e89",
    "deepnote_cell_type": "code",
    "deepnote_to_be_reexecuted": false,
    "execution_millis": 721,
    "execution_start": 1659569344184,
    "output_cleared": true,
    "source_hash": "a58f2868",
    "tags": []
   },
   "outputs": [
    {
     "name": "stderr",
     "output_type": "stream",
     "text": [
      "\"wget\" no se reconoce como un comando interno o externo,\n",
      "programa o archivo por lotes ejecutable.\n"
     ]
    }
   ],
   "source": [
    "!wget -O ./data/prima_indias_diabtetes.csv {prima_indias_diabtetes_url} -q"
   ]
  },
  {
   "cell_type": "code",
   "execution_count": 15,
   "metadata": {
    "cell_id": "fa8dadbfb64f4270920b6d4f8e3b573b",
    "deepnote_app_coordinates": {
     "h": 5,
     "w": 12,
     "x": 0,
     "y": 0
    },
    "deepnote_cell_type": "code",
    "deepnote_to_be_reexecuted": false,
    "execution_millis": 0,
    "execution_start": 1659569489620,
    "output_cleared": true,
    "source_hash": "e42d5f99",
    "tags": []
   },
   "outputs": [],
   "source": [
    "diabetes_df=pd.read_csv(\"pima-indians-diabetes.csv\",sep=\",\",names=[\n",
    "        \"pregnancies\",\n",
    "        \"glucose\",\n",
    "        \"blood_pressure\",\n",
    "        \"skin_thickness\",\n",
    "        \"insulin\",\n",
    "        \"bmi\",\n",
    "        \"diabetes_pedigree_function\",\n",
    "        \"age\",\n",
    "        \"outcome\",\n",
    "    ]\n",
    "\n",
    ")"
   ]
  },
  {
   "cell_type": "markdown",
   "metadata": {
    "cell_id": "62cb96ca5ba542c79e68622f76708ffe",
    "deepnote_app_coordinates": {
     "h": 5,
     "w": 12,
     "x": 0,
     "y": 0
    },
    "deepnote_cell_type": "markdown",
    "tags": []
   },
   "source": [
    "### naniar (oceanbuoys, pedestrian, riskfactors)"
   ]
  },
  {
   "cell_type": "markdown",
   "metadata": {
    "cell_id": "3381e96310214bd2b8e7c06523d3420a",
    "deepnote_app_coordinates": {
     "h": 5,
     "w": 12,
     "x": 0,
     "y": 145
    },
    "deepnote_cell_type": "markdown",
    "tags": []
   },
   "source": [
    "#### Crear unidades de información de los conjuntos de datos"
   ]
  },
  {
   "cell_type": "code",
   "execution_count": 16,
   "metadata": {
    "cell_id": "540a0329c70846648653e53bc5315eff",
    "deepnote_app_coordinates": {
     "h": 5,
     "w": 12,
     "x": 0,
     "y": 151
    },
    "deepnote_cell_type": "code",
    "deepnote_to_be_reexecuted": false,
    "execution_millis": 0,
    "execution_start": 1659569526798,
    "output_cleared": true,
    "source_hash": "95ff45d",
    "tags": []
   },
   "outputs": [],
   "source": [
    "base_url = \"https://github.com/njtierney/naniar/raw/master/data/\"\n",
    "datasets_names = (\"oceanbuoys\", \"pedestrian\", \"riskfactors\")\n",
    "extension = \".rda\""
   ]
  },
  {
   "cell_type": "markdown",
   "metadata": {
    "cell_id": "bddd7ecad17b4e03a9fa18fde18aeac9",
    "deepnote_app_coordinates": {
     "h": 5,
     "w": 12,
     "x": 0,
     "y": 157
    },
    "deepnote_cell_type": "markdown",
    "tags": []
   },
   "source": [
    "#### Descargar y cargar los conjuntos de datos"
   ]
  },
  {
   "cell_type": "code",
   "execution_count": 17,
   "metadata": {},
   "outputs": [
    {
     "data": {
      "text/plain": [
       "dict_keys(['oceanbuoys_df', 'pedestrian_df', 'riskfactors_df'])"
      ]
     },
     "execution_count": 17,
     "metadata": {},
     "output_type": "execute_result"
    }
   ],
   "source": [
    "datasets_dfs = {}\n",
    "datasets_dfs[f\"oceanbuoys_df\"] = pyreadr.read_r(\"oceanbuoys.rda\").get(\"oceanbuoys\")\n",
    "datasets_dfs[f\"pedestrian_df\"] = pyreadr.read_r(\"pedestrian.rda\").get(\"pedestrian\")\n",
    "datasets_dfs[f\"riskfactors_df\"] = pyreadr.read_r(\"riskfactors.rda\").get(\"riskfactors\")\n",
    "datasets_dfs.keys()\n"
   ]
  },
  {
   "cell_type": "code",
   "execution_count": 18,
   "metadata": {
    "cell_id": "a22473bc2b424c69b54cc784870f66eb",
    "deepnote_cell_type": "code",
    "deepnote_to_be_reexecuted": false,
    "execution_millis": 3555,
    "execution_start": 1659569585173,
    "output_cleared": true,
    "source_hash": "63d5c793",
    "tags": []
   },
   "outputs": [],
   "source": [
    "# datasets_dfs = {}\n",
    "\n",
    "# for dataset_name in datasets_names:\n",
    "\n",
    "#     dataset_file = f\"{ dataset_name }{ extension }\"\n",
    "#     dataset_output_file = f\"./data/{ dataset_file }\"\n",
    "#     dataset_url = f\"{ base_url }{ dataset_file }\"\n",
    "    \n",
    "#     !wget -q -O { dataset_output_file } { dataset_url }\n",
    "\n",
    "#     datasets_dfs[f\"{ dataset_name }_df\"] = pyreadr.read_r(dataset_output_file).get(dataset_name)\n",
    "\n",
    "# datasets_dfs.keys()"
   ]
  },
  {
   "cell_type": "markdown",
   "metadata": {
    "cell_id": "b65d2cc0f41b4cd19a052138457e6514",
    "deepnote_app_coordinates": {
     "h": 5,
     "w": 12,
     "x": 0,
     "y": 169
    },
    "deepnote_cell_type": "markdown",
    "tags": []
   },
   "source": [
    "#### Incluir conjuntos de datos en nuestro ambiente local"
   ]
  },
  {
   "cell_type": "code",
   "execution_count": 19,
   "metadata": {
    "cell_id": "1a3ee85c73964c0799ae4944b35e1b1c",
    "deepnote_app_coordinates": {
     "h": 5,
     "w": 12,
     "x": 0,
     "y": 175
    },
    "deepnote_cell_type": "code",
    "deepnote_to_be_reexecuted": false,
    "execution_millis": 1,
    "execution_start": 1659569619861,
    "output_cleared": true,
    "source_hash": "a35a46fe",
    "tags": []
   },
   "outputs": [],
   "source": [
    "locals().update(**datasets_dfs)\n",
    "del datasets_dfs"
   ]
  },
  {
   "cell_type": "markdown",
   "metadata": {
    "cell_id": "208f2a699bd340c081898e356d9b11b1",
    "deepnote_app_coordinates": {
     "h": 5,
     "w": 12,
     "x": 0,
     "y": 181
    },
    "deepnote_cell_type": "markdown",
    "tags": []
   },
   "source": [
    "### Verificar carga"
   ]
  },
  {
   "cell_type": "code",
   "execution_count": 20,
   "metadata": {
    "cell_id": "3aa4ca84efee4e66a5a2e071603df8b7",
    "deepnote_app_coordinates": {
     "h": 5,
     "w": 12,
     "x": 0,
     "y": 187
    },
    "deepnote_cell_type": "code",
    "deepnote_to_be_reexecuted": false,
    "execution_millis": 0,
    "execution_start": 1659569632860,
    "output_cleared": true,
    "source_hash": "8006f267",
    "tags": []
   },
   "outputs": [
    {
     "data": {
      "text/plain": [
       "((736, 8), (37700, 9), (245, 34), (768, 9))"
      ]
     },
     "execution_count": 20,
     "metadata": {},
     "output_type": "execute_result"
    }
   ],
   "source": [
    "oceanbuoys_df.shape, pedestrian_df.shape, riskfactors_df.shape, diabetes_df.shape"
   ]
  },
  {
   "cell_type": "code",
   "execution_count": 21,
   "metadata": {
    "cell_id": "2afaa068e6734edab0d5e9ff2b45ca30",
    "deepnote_app_coordinates": {
     "h": 5,
     "w": 12,
     "x": 0,
     "y": 193
    },
    "deepnote_cell_type": "code",
    "deepnote_to_be_reexecuted": false,
    "execution_millis": 9,
    "execution_start": 1659569658085,
    "output_cleared": true,
    "source_hash": "ec03ce8a",
    "tags": []
   },
   "outputs": [
    {
     "name": "stdout",
     "output_type": "stream",
     "text": [
      "<class 'pandas.core.frame.DataFrame'>\n",
      "RangeIndex: 245 entries, 0 to 244\n",
      "Data columns (total 34 columns):\n",
      " #   Column            Non-Null Count  Dtype   \n",
      "---  ------            --------------  -----   \n",
      " 0   state             245 non-null    category\n",
      " 1   sex               245 non-null    category\n",
      " 2   age               245 non-null    int32   \n",
      " 3   weight_lbs        235 non-null    object  \n",
      " 4   height_inch       243 non-null    object  \n",
      " 5   bmi               234 non-null    float64 \n",
      " 6   marital           244 non-null    category\n",
      " 7   pregnant          30 non-null     category\n",
      " 8   children          245 non-null    int32   \n",
      " 9   education         244 non-null    category\n",
      " 10  employment        245 non-null    category\n",
      " 11  income            245 non-null    category\n",
      " 12  veteran           242 non-null    category\n",
      " 13  hispanic          243 non-null    category\n",
      " 14  health_general    245 non-null    category\n",
      " 15  health_physical   245 non-null    int32   \n",
      " 16  health_mental     245 non-null    int32   \n",
      " 17  health_poor       132 non-null    object  \n",
      " 18  health_cover      245 non-null    category\n",
      " 19  provide_care      242 non-null    category\n",
      " 20  activity_limited  242 non-null    category\n",
      " 21  drink_any         243 non-null    category\n",
      " 22  drink_days        111 non-null    object  \n",
      " 23  drink_average     110 non-null    object  \n",
      " 24  smoke_100         243 non-null    category\n",
      " 25  smoke_days        117 non-null    category\n",
      " 26  smoke_stop        33 non-null     category\n",
      " 27  smoke_last        84 non-null     category\n",
      " 28  diet_fruit        237 non-null    object  \n",
      " 29  diet_salad        237 non-null    object  \n",
      " 30  diet_potato       237 non-null    object  \n",
      " 31  diet_carrot       237 non-null    object  \n",
      " 32  diet_vegetable    237 non-null    object  \n",
      " 33  diet_juice        237 non-null    object  \n",
      "dtypes: category(18), float64(1), int32(4), object(11)\n",
      "memory usage: 36.7+ KB\n"
     ]
    }
   ],
   "source": [
    "riskfactors_df.info()"
   ]
  },
  {
   "cell_type": "markdown",
   "metadata": {
    "cell_id": "4931ac5d98934dfcade669dbfd512b86",
    "deepnote_app_coordinates": {
     "h": 5,
     "w": 12,
     "x": 0,
     "y": 199
    },
    "deepnote_cell_type": "markdown",
    "tags": []
   },
   "source": [
    "## Tabulación de valores faltantes"
   ]
  },
  {
   "cell_type": "code",
   "execution_count": 22,
   "metadata": {
    "cell_id": "28c23b37020f40f9822f94357ad45db9",
    "deepnote_app_coordinates": {
     "h": 5,
     "w": 12,
     "x": 0,
     "y": 205
    },
    "deepnote_cell_type": "code",
    "deepnote_to_be_reexecuted": false,
    "execution_millis": 676,
    "execution_start": 1659559209164,
    "output_cleared": true,
    "source_hash": "d572177c",
    "tags": []
   },
   "outputs": [
    {
     "data": {
      "text/html": [
       "<div>\n",
       "<style scoped>\n",
       "    .dataframe tbody tr th:only-of-type {\n",
       "        vertical-align: middle;\n",
       "    }\n",
       "\n",
       "    .dataframe tbody tr th {\n",
       "        vertical-align: top;\n",
       "    }\n",
       "\n",
       "    .dataframe thead th {\n",
       "        text-align: right;\n",
       "    }\n",
       "</style>\n",
       "<table border=\"1\" class=\"dataframe\">\n",
       "  <thead>\n",
       "    <tr style=\"text-align: right;\">\n",
       "      <th></th>\n",
       "      <th>state</th>\n",
       "      <th>sex</th>\n",
       "      <th>age</th>\n",
       "      <th>weight_lbs</th>\n",
       "      <th>height_inch</th>\n",
       "      <th>bmi</th>\n",
       "      <th>marital</th>\n",
       "      <th>pregnant</th>\n",
       "      <th>children</th>\n",
       "      <th>education</th>\n",
       "      <th>...</th>\n",
       "      <th>smoke_100</th>\n",
       "      <th>smoke_days</th>\n",
       "      <th>smoke_stop</th>\n",
       "      <th>smoke_last</th>\n",
       "      <th>diet_fruit</th>\n",
       "      <th>diet_salad</th>\n",
       "      <th>diet_potato</th>\n",
       "      <th>diet_carrot</th>\n",
       "      <th>diet_vegetable</th>\n",
       "      <th>diet_juice</th>\n",
       "    </tr>\n",
       "  </thead>\n",
       "  <tbody>\n",
       "    <tr>\n",
       "      <th>0</th>\n",
       "      <td>False</td>\n",
       "      <td>False</td>\n",
       "      <td>False</td>\n",
       "      <td>False</td>\n",
       "      <td>False</td>\n",
       "      <td>False</td>\n",
       "      <td>False</td>\n",
       "      <td>True</td>\n",
       "      <td>False</td>\n",
       "      <td>False</td>\n",
       "      <td>...</td>\n",
       "      <td>False</td>\n",
       "      <td>True</td>\n",
       "      <td>True</td>\n",
       "      <td>True</td>\n",
       "      <td>False</td>\n",
       "      <td>False</td>\n",
       "      <td>False</td>\n",
       "      <td>False</td>\n",
       "      <td>False</td>\n",
       "      <td>False</td>\n",
       "    </tr>\n",
       "    <tr>\n",
       "      <th>1</th>\n",
       "      <td>False</td>\n",
       "      <td>False</td>\n",
       "      <td>False</td>\n",
       "      <td>False</td>\n",
       "      <td>False</td>\n",
       "      <td>False</td>\n",
       "      <td>False</td>\n",
       "      <td>True</td>\n",
       "      <td>False</td>\n",
       "      <td>False</td>\n",
       "      <td>...</td>\n",
       "      <td>False</td>\n",
       "      <td>True</td>\n",
       "      <td>True</td>\n",
       "      <td>True</td>\n",
       "      <td>False</td>\n",
       "      <td>False</td>\n",
       "      <td>False</td>\n",
       "      <td>False</td>\n",
       "      <td>False</td>\n",
       "      <td>False</td>\n",
       "    </tr>\n",
       "    <tr>\n",
       "      <th>2</th>\n",
       "      <td>False</td>\n",
       "      <td>False</td>\n",
       "      <td>False</td>\n",
       "      <td>False</td>\n",
       "      <td>False</td>\n",
       "      <td>False</td>\n",
       "      <td>False</td>\n",
       "      <td>True</td>\n",
       "      <td>False</td>\n",
       "      <td>False</td>\n",
       "      <td>...</td>\n",
       "      <td>False</td>\n",
       "      <td>True</td>\n",
       "      <td>True</td>\n",
       "      <td>True</td>\n",
       "      <td>False</td>\n",
       "      <td>False</td>\n",
       "      <td>False</td>\n",
       "      <td>False</td>\n",
       "      <td>False</td>\n",
       "      <td>False</td>\n",
       "    </tr>\n",
       "    <tr>\n",
       "      <th>3</th>\n",
       "      <td>False</td>\n",
       "      <td>False</td>\n",
       "      <td>False</td>\n",
       "      <td>False</td>\n",
       "      <td>False</td>\n",
       "      <td>False</td>\n",
       "      <td>False</td>\n",
       "      <td>True</td>\n",
       "      <td>False</td>\n",
       "      <td>False</td>\n",
       "      <td>...</td>\n",
       "      <td>False</td>\n",
       "      <td>True</td>\n",
       "      <td>True</td>\n",
       "      <td>True</td>\n",
       "      <td>True</td>\n",
       "      <td>True</td>\n",
       "      <td>True</td>\n",
       "      <td>True</td>\n",
       "      <td>True</td>\n",
       "      <td>True</td>\n",
       "    </tr>\n",
       "    <tr>\n",
       "      <th>4</th>\n",
       "      <td>False</td>\n",
       "      <td>False</td>\n",
       "      <td>False</td>\n",
       "      <td>False</td>\n",
       "      <td>False</td>\n",
       "      <td>False</td>\n",
       "      <td>False</td>\n",
       "      <td>True</td>\n",
       "      <td>False</td>\n",
       "      <td>False</td>\n",
       "      <td>...</td>\n",
       "      <td>False</td>\n",
       "      <td>False</td>\n",
       "      <td>False</td>\n",
       "      <td>True</td>\n",
       "      <td>False</td>\n",
       "      <td>False</td>\n",
       "      <td>False</td>\n",
       "      <td>False</td>\n",
       "      <td>False</td>\n",
       "      <td>False</td>\n",
       "    </tr>\n",
       "    <tr>\n",
       "      <th>...</th>\n",
       "      <td>...</td>\n",
       "      <td>...</td>\n",
       "      <td>...</td>\n",
       "      <td>...</td>\n",
       "      <td>...</td>\n",
       "      <td>...</td>\n",
       "      <td>...</td>\n",
       "      <td>...</td>\n",
       "      <td>...</td>\n",
       "      <td>...</td>\n",
       "      <td>...</td>\n",
       "      <td>...</td>\n",
       "      <td>...</td>\n",
       "      <td>...</td>\n",
       "      <td>...</td>\n",
       "      <td>...</td>\n",
       "      <td>...</td>\n",
       "      <td>...</td>\n",
       "      <td>...</td>\n",
       "      <td>...</td>\n",
       "      <td>...</td>\n",
       "    </tr>\n",
       "    <tr>\n",
       "      <th>240</th>\n",
       "      <td>False</td>\n",
       "      <td>False</td>\n",
       "      <td>False</td>\n",
       "      <td>False</td>\n",
       "      <td>False</td>\n",
       "      <td>False</td>\n",
       "      <td>False</td>\n",
       "      <td>True</td>\n",
       "      <td>False</td>\n",
       "      <td>False</td>\n",
       "      <td>...</td>\n",
       "      <td>False</td>\n",
       "      <td>True</td>\n",
       "      <td>True</td>\n",
       "      <td>True</td>\n",
       "      <td>False</td>\n",
       "      <td>False</td>\n",
       "      <td>False</td>\n",
       "      <td>False</td>\n",
       "      <td>False</td>\n",
       "      <td>False</td>\n",
       "    </tr>\n",
       "    <tr>\n",
       "      <th>241</th>\n",
       "      <td>False</td>\n",
       "      <td>False</td>\n",
       "      <td>False</td>\n",
       "      <td>False</td>\n",
       "      <td>False</td>\n",
       "      <td>False</td>\n",
       "      <td>False</td>\n",
       "      <td>True</td>\n",
       "      <td>False</td>\n",
       "      <td>False</td>\n",
       "      <td>...</td>\n",
       "      <td>False</td>\n",
       "      <td>True</td>\n",
       "      <td>True</td>\n",
       "      <td>True</td>\n",
       "      <td>False</td>\n",
       "      <td>False</td>\n",
       "      <td>False</td>\n",
       "      <td>False</td>\n",
       "      <td>False</td>\n",
       "      <td>False</td>\n",
       "    </tr>\n",
       "    <tr>\n",
       "      <th>242</th>\n",
       "      <td>False</td>\n",
       "      <td>False</td>\n",
       "      <td>False</td>\n",
       "      <td>False</td>\n",
       "      <td>False</td>\n",
       "      <td>False</td>\n",
       "      <td>False</td>\n",
       "      <td>True</td>\n",
       "      <td>False</td>\n",
       "      <td>False</td>\n",
       "      <td>...</td>\n",
       "      <td>False</td>\n",
       "      <td>False</td>\n",
       "      <td>True</td>\n",
       "      <td>False</td>\n",
       "      <td>False</td>\n",
       "      <td>False</td>\n",
       "      <td>False</td>\n",
       "      <td>False</td>\n",
       "      <td>False</td>\n",
       "      <td>False</td>\n",
       "    </tr>\n",
       "    <tr>\n",
       "      <th>243</th>\n",
       "      <td>False</td>\n",
       "      <td>False</td>\n",
       "      <td>False</td>\n",
       "      <td>False</td>\n",
       "      <td>False</td>\n",
       "      <td>False</td>\n",
       "      <td>False</td>\n",
       "      <td>True</td>\n",
       "      <td>False</td>\n",
       "      <td>False</td>\n",
       "      <td>...</td>\n",
       "      <td>False</td>\n",
       "      <td>False</td>\n",
       "      <td>False</td>\n",
       "      <td>True</td>\n",
       "      <td>False</td>\n",
       "      <td>False</td>\n",
       "      <td>False</td>\n",
       "      <td>False</td>\n",
       "      <td>False</td>\n",
       "      <td>False</td>\n",
       "    </tr>\n",
       "    <tr>\n",
       "      <th>244</th>\n",
       "      <td>False</td>\n",
       "      <td>False</td>\n",
       "      <td>False</td>\n",
       "      <td>False</td>\n",
       "      <td>False</td>\n",
       "      <td>False</td>\n",
       "      <td>False</td>\n",
       "      <td>True</td>\n",
       "      <td>False</td>\n",
       "      <td>False</td>\n",
       "      <td>...</td>\n",
       "      <td>False</td>\n",
       "      <td>False</td>\n",
       "      <td>True</td>\n",
       "      <td>False</td>\n",
       "      <td>False</td>\n",
       "      <td>False</td>\n",
       "      <td>False</td>\n",
       "      <td>False</td>\n",
       "      <td>False</td>\n",
       "      <td>False</td>\n",
       "    </tr>\n",
       "  </tbody>\n",
       "</table>\n",
       "<p>245 rows × 34 columns</p>\n",
       "</div>"
      ],
      "text/plain": [
       "     state    sex    age  weight_lbs  height_inch    bmi  marital  pregnant  \\\n",
       "0    False  False  False       False        False  False    False      True   \n",
       "1    False  False  False       False        False  False    False      True   \n",
       "2    False  False  False       False        False  False    False      True   \n",
       "3    False  False  False       False        False  False    False      True   \n",
       "4    False  False  False       False        False  False    False      True   \n",
       "..     ...    ...    ...         ...          ...    ...      ...       ...   \n",
       "240  False  False  False       False        False  False    False      True   \n",
       "241  False  False  False       False        False  False    False      True   \n",
       "242  False  False  False       False        False  False    False      True   \n",
       "243  False  False  False       False        False  False    False      True   \n",
       "244  False  False  False       False        False  False    False      True   \n",
       "\n",
       "     children  education  ...  smoke_100  smoke_days  smoke_stop  smoke_last  \\\n",
       "0       False      False  ...      False        True        True        True   \n",
       "1       False      False  ...      False        True        True        True   \n",
       "2       False      False  ...      False        True        True        True   \n",
       "3       False      False  ...      False        True        True        True   \n",
       "4       False      False  ...      False       False       False        True   \n",
       "..        ...        ...  ...        ...         ...         ...         ...   \n",
       "240     False      False  ...      False        True        True        True   \n",
       "241     False      False  ...      False        True        True        True   \n",
       "242     False      False  ...      False       False        True       False   \n",
       "243     False      False  ...      False       False       False        True   \n",
       "244     False      False  ...      False       False        True       False   \n",
       "\n",
       "     diet_fruit  diet_salad  diet_potato  diet_carrot  diet_vegetable  \\\n",
       "0         False       False        False        False           False   \n",
       "1         False       False        False        False           False   \n",
       "2         False       False        False        False           False   \n",
       "3          True        True         True         True            True   \n",
       "4         False       False        False        False           False   \n",
       "..          ...         ...          ...          ...             ...   \n",
       "240       False       False        False        False           False   \n",
       "241       False       False        False        False           False   \n",
       "242       False       False        False        False           False   \n",
       "243       False       False        False        False           False   \n",
       "244       False       False        False        False           False   \n",
       "\n",
       "     diet_juice  \n",
       "0         False  \n",
       "1         False  \n",
       "2         False  \n",
       "3          True  \n",
       "4         False  \n",
       "..          ...  \n",
       "240       False  \n",
       "241       False  \n",
       "242       False  \n",
       "243       False  \n",
       "244       False  \n",
       "\n",
       "[245 rows x 34 columns]"
      ]
     },
     "execution_count": 22,
     "metadata": {},
     "output_type": "execute_result"
    }
   ],
   "source": [
    "riskfactors_df.isna()"
   ]
  },
  {
   "cell_type": "markdown",
   "metadata": {
    "cell_id": "9e5247a9afcb40e384f53e47a51e8f27",
    "deepnote_app_coordinates": {
     "h": 5,
     "w": 12,
     "x": 0,
     "y": 211
    },
    "deepnote_cell_type": "markdown",
    "tags": []
   },
   "source": [
    "### Resúmenes básicos de valores faltantes"
   ]
  },
  {
   "cell_type": "code",
   "execution_count": 23,
   "metadata": {
    "cell_id": "e677968a7cc84f02a3e32a6741680d17",
    "deepnote_app_coordinates": {
     "h": 5,
     "w": 12,
     "x": 0,
     "y": 217
    },
    "deepnote_cell_type": "code",
    "deepnote_to_be_reexecuted": false,
    "execution_millis": 3,
    "execution_start": 1659559209232,
    "output_cleared": true,
    "source_hash": "f161de07",
    "tags": []
   },
   "outputs": [
    {
     "data": {
      "text/plain": [
       "(245, 34)"
      ]
     },
     "execution_count": 23,
     "metadata": {},
     "output_type": "execute_result"
    }
   ],
   "source": [
    "riskfactors_df.shape"
   ]
  },
  {
   "cell_type": "markdown",
   "metadata": {
    "cell_id": "ffe29f6f04994422a43494fd5d8a49a4",
    "deepnote_app_coordinates": {
     "h": 5,
     "w": 12,
     "x": 0,
     "y": 223
    },
    "deepnote_cell_type": "markdown",
    "deepnote_to_be_reexecuted": false,
    "execution_start": 1657058318180,
    "source_hash": "b623e53d",
    "tags": []
   },
   "source": [
    "#### Número total de valores completos (sin observaciones faltantes)"
   ]
  },
  {
   "cell_type": "code",
   "execution_count": 24,
   "metadata": {
    "cell_id": "8add42787692443dacef9244a8087eca",
    "deepnote_app_coordinates": {
     "h": 5,
     "w": 12,
     "x": 0,
     "y": 229
    },
    "deepnote_cell_type": "code",
    "deepnote_to_be_reexecuted": false,
    "execution_millis": 491,
    "execution_start": 1659559209350,
    "output_cleared": true,
    "source_hash": "fb992873",
    "tags": []
   },
   "outputs": [
    {
     "data": {
      "text/plain": [
       "np.int64(7144)"
      ]
     },
     "execution_count": 24,
     "metadata": {},
     "output_type": "execute_result"
    }
   ],
   "source": [
    "riskfactors_df.missing.number_complete()"
   ]
  },
  {
   "cell_type": "markdown",
   "metadata": {
    "cell_id": "f43d3ab4e1394ee08e30710c07073a65",
    "deepnote_app_coordinates": {
     "h": 5,
     "w": 12,
     "x": 0,
     "y": 235
    },
    "deepnote_cell_type": "markdown",
    "tags": []
   },
   "source": [
    "#### Número total de valores faltantes"
   ]
  },
  {
   "cell_type": "code",
   "execution_count": 25,
   "metadata": {
    "cell_id": "2a6519eb2052435c929cea9d827700c7",
    "deepnote_app_coordinates": {
     "h": 5,
     "w": 12,
     "x": 0,
     "y": 241
    },
    "deepnote_cell_type": "code",
    "deepnote_to_be_reexecuted": false,
    "execution_millis": 491,
    "execution_start": 1659559209351,
    "output_cleared": true,
    "source_hash": "be866a7e",
    "tags": []
   },
   "outputs": [
    {
     "data": {
      "text/plain": [
       "np.int64(1186)"
      ]
     },
     "execution_count": 25,
     "metadata": {},
     "output_type": "execute_result"
    }
   ],
   "source": [
    "riskfactors_df.missing.number_missing()"
   ]
  },
  {
   "cell_type": "markdown",
   "metadata": {
    "cell_id": "b62731d3b6cb4407af86bed72cb06617",
    "deepnote_app_coordinates": {
     "h": 5,
     "w": 12,
     "x": 0,
     "y": 247
    },
    "deepnote_cell_type": "markdown",
    "deepnote_to_be_reexecuted": false,
    "execution_start": 1657058318190,
    "source_hash": "b623e53d",
    "tags": []
   },
   "source": [
    "### Resúmenes tabulares de valores faltantes"
   ]
  },
  {
   "cell_type": "markdown",
   "metadata": {
    "cell_id": "f244c0a448914216be106b03ef7f4247",
    "deepnote_app_coordinates": {
     "h": 5,
     "w": 12,
     "x": 0,
     "y": 253
    },
    "deepnote_cell_type": "markdown",
    "tags": []
   },
   "source": [
    "#### Variables / Columnas"
   ]
  },
  {
   "cell_type": "markdown",
   "metadata": {
    "cell_id": "524e74380f774e34a8b23bbee58e7318",
    "deepnote_app_coordinates": {
     "h": 5,
     "w": 12,
     "x": 0,
     "y": 259
    },
    "deepnote_cell_type": "markdown",
    "tags": []
   },
   "source": [
    "##### Resumen por variable"
   ]
  },
  {
   "cell_type": "code",
   "execution_count": 26,
   "metadata": {
    "cell_id": "208c64e0e4f547e48590c31818960eff",
    "deepnote_cell_type": "code",
    "deepnote_to_be_reexecuted": false,
    "execution_millis": 490,
    "execution_start": 1659559209352,
    "output_cleared": true,
    "source_hash": "6d4bd0f1",
    "tags": []
   },
   "outputs": [
    {
     "data": {
      "text/html": [
       "<div>\n",
       "<style scoped>\n",
       "    .dataframe tbody tr th:only-of-type {\n",
       "        vertical-align: middle;\n",
       "    }\n",
       "\n",
       "    .dataframe tbody tr th {\n",
       "        vertical-align: top;\n",
       "    }\n",
       "\n",
       "    .dataframe thead th {\n",
       "        text-align: right;\n",
       "    }\n",
       "</style>\n",
       "<table border=\"1\" class=\"dataframe\">\n",
       "  <thead>\n",
       "    <tr style=\"text-align: right;\">\n",
       "      <th></th>\n",
       "      <th>variable</th>\n",
       "      <th>n_missing</th>\n",
       "      <th>n_cases</th>\n",
       "      <th>pct_missing</th>\n",
       "    </tr>\n",
       "  </thead>\n",
       "  <tbody>\n",
       "    <tr>\n",
       "      <th>0</th>\n",
       "      <td>state</td>\n",
       "      <td>0</td>\n",
       "      <td>245</td>\n",
       "      <td>0.000000</td>\n",
       "    </tr>\n",
       "    <tr>\n",
       "      <th>1</th>\n",
       "      <td>sex</td>\n",
       "      <td>0</td>\n",
       "      <td>245</td>\n",
       "      <td>0.000000</td>\n",
       "    </tr>\n",
       "    <tr>\n",
       "      <th>2</th>\n",
       "      <td>age</td>\n",
       "      <td>0</td>\n",
       "      <td>245</td>\n",
       "      <td>0.000000</td>\n",
       "    </tr>\n",
       "    <tr>\n",
       "      <th>3</th>\n",
       "      <td>weight_lbs</td>\n",
       "      <td>10</td>\n",
       "      <td>245</td>\n",
       "      <td>4.081633</td>\n",
       "    </tr>\n",
       "    <tr>\n",
       "      <th>4</th>\n",
       "      <td>height_inch</td>\n",
       "      <td>2</td>\n",
       "      <td>245</td>\n",
       "      <td>0.816327</td>\n",
       "    </tr>\n",
       "    <tr>\n",
       "      <th>5</th>\n",
       "      <td>bmi</td>\n",
       "      <td>11</td>\n",
       "      <td>245</td>\n",
       "      <td>4.489796</td>\n",
       "    </tr>\n",
       "    <tr>\n",
       "      <th>6</th>\n",
       "      <td>marital</td>\n",
       "      <td>1</td>\n",
       "      <td>245</td>\n",
       "      <td>0.408163</td>\n",
       "    </tr>\n",
       "    <tr>\n",
       "      <th>7</th>\n",
       "      <td>pregnant</td>\n",
       "      <td>215</td>\n",
       "      <td>245</td>\n",
       "      <td>87.755102</td>\n",
       "    </tr>\n",
       "    <tr>\n",
       "      <th>8</th>\n",
       "      <td>children</td>\n",
       "      <td>0</td>\n",
       "      <td>245</td>\n",
       "      <td>0.000000</td>\n",
       "    </tr>\n",
       "    <tr>\n",
       "      <th>9</th>\n",
       "      <td>education</td>\n",
       "      <td>1</td>\n",
       "      <td>245</td>\n",
       "      <td>0.408163</td>\n",
       "    </tr>\n",
       "    <tr>\n",
       "      <th>10</th>\n",
       "      <td>employment</td>\n",
       "      <td>0</td>\n",
       "      <td>245</td>\n",
       "      <td>0.000000</td>\n",
       "    </tr>\n",
       "    <tr>\n",
       "      <th>11</th>\n",
       "      <td>income</td>\n",
       "      <td>0</td>\n",
       "      <td>245</td>\n",
       "      <td>0.000000</td>\n",
       "    </tr>\n",
       "    <tr>\n",
       "      <th>12</th>\n",
       "      <td>veteran</td>\n",
       "      <td>3</td>\n",
       "      <td>245</td>\n",
       "      <td>1.224490</td>\n",
       "    </tr>\n",
       "    <tr>\n",
       "      <th>13</th>\n",
       "      <td>hispanic</td>\n",
       "      <td>2</td>\n",
       "      <td>245</td>\n",
       "      <td>0.816327</td>\n",
       "    </tr>\n",
       "    <tr>\n",
       "      <th>14</th>\n",
       "      <td>health_general</td>\n",
       "      <td>0</td>\n",
       "      <td>245</td>\n",
       "      <td>0.000000</td>\n",
       "    </tr>\n",
       "    <tr>\n",
       "      <th>15</th>\n",
       "      <td>health_physical</td>\n",
       "      <td>0</td>\n",
       "      <td>245</td>\n",
       "      <td>0.000000</td>\n",
       "    </tr>\n",
       "    <tr>\n",
       "      <th>16</th>\n",
       "      <td>health_mental</td>\n",
       "      <td>0</td>\n",
       "      <td>245</td>\n",
       "      <td>0.000000</td>\n",
       "    </tr>\n",
       "    <tr>\n",
       "      <th>17</th>\n",
       "      <td>health_poor</td>\n",
       "      <td>113</td>\n",
       "      <td>245</td>\n",
       "      <td>46.122449</td>\n",
       "    </tr>\n",
       "    <tr>\n",
       "      <th>18</th>\n",
       "      <td>health_cover</td>\n",
       "      <td>0</td>\n",
       "      <td>245</td>\n",
       "      <td>0.000000</td>\n",
       "    </tr>\n",
       "    <tr>\n",
       "      <th>19</th>\n",
       "      <td>provide_care</td>\n",
       "      <td>3</td>\n",
       "      <td>245</td>\n",
       "      <td>1.224490</td>\n",
       "    </tr>\n",
       "    <tr>\n",
       "      <th>20</th>\n",
       "      <td>activity_limited</td>\n",
       "      <td>3</td>\n",
       "      <td>245</td>\n",
       "      <td>1.224490</td>\n",
       "    </tr>\n",
       "    <tr>\n",
       "      <th>21</th>\n",
       "      <td>drink_any</td>\n",
       "      <td>2</td>\n",
       "      <td>245</td>\n",
       "      <td>0.816327</td>\n",
       "    </tr>\n",
       "    <tr>\n",
       "      <th>22</th>\n",
       "      <td>drink_days</td>\n",
       "      <td>134</td>\n",
       "      <td>245</td>\n",
       "      <td>54.693878</td>\n",
       "    </tr>\n",
       "    <tr>\n",
       "      <th>23</th>\n",
       "      <td>drink_average</td>\n",
       "      <td>135</td>\n",
       "      <td>245</td>\n",
       "      <td>55.102041</td>\n",
       "    </tr>\n",
       "    <tr>\n",
       "      <th>24</th>\n",
       "      <td>smoke_100</td>\n",
       "      <td>2</td>\n",
       "      <td>245</td>\n",
       "      <td>0.816327</td>\n",
       "    </tr>\n",
       "    <tr>\n",
       "      <th>25</th>\n",
       "      <td>smoke_days</td>\n",
       "      <td>128</td>\n",
       "      <td>245</td>\n",
       "      <td>52.244898</td>\n",
       "    </tr>\n",
       "    <tr>\n",
       "      <th>26</th>\n",
       "      <td>smoke_stop</td>\n",
       "      <td>212</td>\n",
       "      <td>245</td>\n",
       "      <td>86.530612</td>\n",
       "    </tr>\n",
       "    <tr>\n",
       "      <th>27</th>\n",
       "      <td>smoke_last</td>\n",
       "      <td>161</td>\n",
       "      <td>245</td>\n",
       "      <td>65.714286</td>\n",
       "    </tr>\n",
       "    <tr>\n",
       "      <th>28</th>\n",
       "      <td>diet_fruit</td>\n",
       "      <td>8</td>\n",
       "      <td>245</td>\n",
       "      <td>3.265306</td>\n",
       "    </tr>\n",
       "    <tr>\n",
       "      <th>29</th>\n",
       "      <td>diet_salad</td>\n",
       "      <td>8</td>\n",
       "      <td>245</td>\n",
       "      <td>3.265306</td>\n",
       "    </tr>\n",
       "    <tr>\n",
       "      <th>30</th>\n",
       "      <td>diet_potato</td>\n",
       "      <td>8</td>\n",
       "      <td>245</td>\n",
       "      <td>3.265306</td>\n",
       "    </tr>\n",
       "    <tr>\n",
       "      <th>31</th>\n",
       "      <td>diet_carrot</td>\n",
       "      <td>8</td>\n",
       "      <td>245</td>\n",
       "      <td>3.265306</td>\n",
       "    </tr>\n",
       "    <tr>\n",
       "      <th>32</th>\n",
       "      <td>diet_vegetable</td>\n",
       "      <td>8</td>\n",
       "      <td>245</td>\n",
       "      <td>3.265306</td>\n",
       "    </tr>\n",
       "    <tr>\n",
       "      <th>33</th>\n",
       "      <td>diet_juice</td>\n",
       "      <td>8</td>\n",
       "      <td>245</td>\n",
       "      <td>3.265306</td>\n",
       "    </tr>\n",
       "  </tbody>\n",
       "</table>\n",
       "</div>"
      ],
      "text/plain": [
       "            variable  n_missing  n_cases  pct_missing\n",
       "0              state          0      245     0.000000\n",
       "1                sex          0      245     0.000000\n",
       "2                age          0      245     0.000000\n",
       "3         weight_lbs         10      245     4.081633\n",
       "4        height_inch          2      245     0.816327\n",
       "5                bmi         11      245     4.489796\n",
       "6            marital          1      245     0.408163\n",
       "7           pregnant        215      245    87.755102\n",
       "8           children          0      245     0.000000\n",
       "9          education          1      245     0.408163\n",
       "10        employment          0      245     0.000000\n",
       "11            income          0      245     0.000000\n",
       "12           veteran          3      245     1.224490\n",
       "13          hispanic          2      245     0.816327\n",
       "14    health_general          0      245     0.000000\n",
       "15   health_physical          0      245     0.000000\n",
       "16     health_mental          0      245     0.000000\n",
       "17       health_poor        113      245    46.122449\n",
       "18      health_cover          0      245     0.000000\n",
       "19      provide_care          3      245     1.224490\n",
       "20  activity_limited          3      245     1.224490\n",
       "21         drink_any          2      245     0.816327\n",
       "22        drink_days        134      245    54.693878\n",
       "23     drink_average        135      245    55.102041\n",
       "24         smoke_100          2      245     0.816327\n",
       "25        smoke_days        128      245    52.244898\n",
       "26        smoke_stop        212      245    86.530612\n",
       "27        smoke_last        161      245    65.714286\n",
       "28        diet_fruit          8      245     3.265306\n",
       "29        diet_salad          8      245     3.265306\n",
       "30       diet_potato          8      245     3.265306\n",
       "31       diet_carrot          8      245     3.265306\n",
       "32    diet_vegetable          8      245     3.265306\n",
       "33        diet_juice          8      245     3.265306"
      ]
     },
     "execution_count": 26,
     "metadata": {},
     "output_type": "execute_result"
    }
   ],
   "source": [
    "riskfactors_df.missing.missing_variable_summary()"
   ]
  },
  {
   "cell_type": "markdown",
   "metadata": {
    "cell_id": "1144a6557a7c460396b11efbac790e94",
    "deepnote_app_coordinates": {
     "h": 5,
     "w": 12,
     "x": 0,
     "y": 271
    },
    "deepnote_cell_type": "markdown",
    "tags": []
   },
   "source": [
    "###### Tabulación del resumen por variable"
   ]
  },
  {
   "cell_type": "code",
   "execution_count": 27,
   "metadata": {
    "cell_id": "d5729c2e5e684002bb735631fff851ba",
    "deepnote_cell_type": "code",
    "deepnote_to_be_reexecuted": false,
    "execution_millis": 488,
    "execution_start": 1659559209355,
    "output_cleared": true,
    "source_hash": "36fbf34b",
    "tags": []
   },
   "outputs": [
    {
     "data": {
      "text/html": [
       "<div>\n",
       "<style scoped>\n",
       "    .dataframe tbody tr th:only-of-type {\n",
       "        vertical-align: middle;\n",
       "    }\n",
       "\n",
       "    .dataframe tbody tr th {\n",
       "        vertical-align: top;\n",
       "    }\n",
       "\n",
       "    .dataframe thead th {\n",
       "        text-align: right;\n",
       "    }\n",
       "</style>\n",
       "<table border=\"1\" class=\"dataframe\">\n",
       "  <thead>\n",
       "    <tr style=\"text-align: right;\">\n",
       "      <th></th>\n",
       "      <th>n_missing_in_variable</th>\n",
       "      <th>n_variables</th>\n",
       "      <th>pct_variables</th>\n",
       "    </tr>\n",
       "  </thead>\n",
       "  <tbody>\n",
       "    <tr>\n",
       "      <th>0</th>\n",
       "      <td>0</td>\n",
       "      <td>10</td>\n",
       "      <td>29.411765</td>\n",
       "    </tr>\n",
       "    <tr>\n",
       "      <th>1</th>\n",
       "      <td>8</td>\n",
       "      <td>6</td>\n",
       "      <td>17.647059</td>\n",
       "    </tr>\n",
       "    <tr>\n",
       "      <th>2</th>\n",
       "      <td>2</td>\n",
       "      <td>4</td>\n",
       "      <td>11.764706</td>\n",
       "    </tr>\n",
       "    <tr>\n",
       "      <th>3</th>\n",
       "      <td>3</td>\n",
       "      <td>3</td>\n",
       "      <td>8.823529</td>\n",
       "    </tr>\n",
       "    <tr>\n",
       "      <th>4</th>\n",
       "      <td>1</td>\n",
       "      <td>2</td>\n",
       "      <td>5.882353</td>\n",
       "    </tr>\n",
       "    <tr>\n",
       "      <th>5</th>\n",
       "      <td>10</td>\n",
       "      <td>1</td>\n",
       "      <td>2.941176</td>\n",
       "    </tr>\n",
       "    <tr>\n",
       "      <th>6</th>\n",
       "      <td>11</td>\n",
       "      <td>1</td>\n",
       "      <td>2.941176</td>\n",
       "    </tr>\n",
       "    <tr>\n",
       "      <th>7</th>\n",
       "      <td>113</td>\n",
       "      <td>1</td>\n",
       "      <td>2.941176</td>\n",
       "    </tr>\n",
       "    <tr>\n",
       "      <th>8</th>\n",
       "      <td>128</td>\n",
       "      <td>1</td>\n",
       "      <td>2.941176</td>\n",
       "    </tr>\n",
       "    <tr>\n",
       "      <th>9</th>\n",
       "      <td>134</td>\n",
       "      <td>1</td>\n",
       "      <td>2.941176</td>\n",
       "    </tr>\n",
       "    <tr>\n",
       "      <th>10</th>\n",
       "      <td>135</td>\n",
       "      <td>1</td>\n",
       "      <td>2.941176</td>\n",
       "    </tr>\n",
       "    <tr>\n",
       "      <th>11</th>\n",
       "      <td>161</td>\n",
       "      <td>1</td>\n",
       "      <td>2.941176</td>\n",
       "    </tr>\n",
       "    <tr>\n",
       "      <th>12</th>\n",
       "      <td>212</td>\n",
       "      <td>1</td>\n",
       "      <td>2.941176</td>\n",
       "    </tr>\n",
       "    <tr>\n",
       "      <th>13</th>\n",
       "      <td>215</td>\n",
       "      <td>1</td>\n",
       "      <td>2.941176</td>\n",
       "    </tr>\n",
       "  </tbody>\n",
       "</table>\n",
       "</div>"
      ],
      "text/plain": [
       "    n_missing_in_variable  n_variables  pct_variables\n",
       "0                       0           10      29.411765\n",
       "1                       8            6      17.647059\n",
       "2                       2            4      11.764706\n",
       "3                       3            3       8.823529\n",
       "4                       1            2       5.882353\n",
       "5                      10            1       2.941176\n",
       "6                      11            1       2.941176\n",
       "7                     113            1       2.941176\n",
       "8                     128            1       2.941176\n",
       "9                     134            1       2.941176\n",
       "10                    135            1       2.941176\n",
       "11                    161            1       2.941176\n",
       "12                    212            1       2.941176\n",
       "13                    215            1       2.941176"
      ]
     },
     "execution_count": 27,
     "metadata": {},
     "output_type": "execute_result"
    }
   ],
   "source": [
    "riskfactors_df.missing.missing_variable_table()"
   ]
  },
  {
   "cell_type": "markdown",
   "metadata": {
    "cell_id": "ac1ce862208c48d192a42793ccc4e1bb",
    "deepnote_app_coordinates": {
     "h": 5,
     "w": 12,
     "x": 0,
     "y": 283
    },
    "deepnote_cell_type": "markdown",
    "deepnote_to_be_reexecuted": false,
    "execution_start": 1657058318225,
    "source_hash": "b623e53d",
    "tags": []
   },
   "source": [
    "#### Casos / Observaciones / Filas"
   ]
  },
  {
   "cell_type": "markdown",
   "metadata": {
    "cell_id": "4cb49678bcf94c21bd88829621ec9f1d",
    "deepnote_app_coordinates": {
     "h": 5,
     "w": 12,
     "x": 0,
     "y": 289
    },
    "deepnote_cell_type": "markdown",
    "deepnote_to_be_reexecuted": false,
    "execution_start": 1657058318225,
    "source_hash": "b623e53d",
    "tags": []
   },
   "source": [
    "##### Resúmenes por caso"
   ]
  },
  {
   "cell_type": "code",
   "execution_count": 28,
   "metadata": {
    "cell_id": "9e01191de0d64f80a31b84e7981c089f",
    "deepnote_app_coordinates": {
     "h": 5,
     "w": 12,
     "x": 0,
     "y": 295
    },
    "deepnote_cell_type": "code",
    "deepnote_to_be_reexecuted": false,
    "execution_millis": 395,
    "execution_start": 1659559209448,
    "output_cleared": true,
    "source_hash": "975bd296",
    "tags": []
   },
   "outputs": [
    {
     "data": {
      "text/html": [
       "<div>\n",
       "<style scoped>\n",
       "    .dataframe tbody tr th:only-of-type {\n",
       "        vertical-align: middle;\n",
       "    }\n",
       "\n",
       "    .dataframe tbody tr th {\n",
       "        vertical-align: top;\n",
       "    }\n",
       "\n",
       "    .dataframe thead th {\n",
       "        text-align: right;\n",
       "    }\n",
       "</style>\n",
       "<table border=\"1\" class=\"dataframe\">\n",
       "  <thead>\n",
       "    <tr style=\"text-align: right;\">\n",
       "      <th></th>\n",
       "      <th>case</th>\n",
       "      <th>n_missing</th>\n",
       "      <th>pct_missing</th>\n",
       "    </tr>\n",
       "  </thead>\n",
       "  <tbody>\n",
       "    <tr>\n",
       "      <th>0</th>\n",
       "      <td>0</td>\n",
       "      <td>6</td>\n",
       "      <td>16.666667</td>\n",
       "    </tr>\n",
       "    <tr>\n",
       "      <th>1</th>\n",
       "      <td>1</td>\n",
       "      <td>6</td>\n",
       "      <td>16.666667</td>\n",
       "    </tr>\n",
       "    <tr>\n",
       "      <th>2</th>\n",
       "      <td>2</td>\n",
       "      <td>7</td>\n",
       "      <td>19.444444</td>\n",
       "    </tr>\n",
       "    <tr>\n",
       "      <th>3</th>\n",
       "      <td>3</td>\n",
       "      <td>12</td>\n",
       "      <td>33.333333</td>\n",
       "    </tr>\n",
       "    <tr>\n",
       "      <th>4</th>\n",
       "      <td>4</td>\n",
       "      <td>5</td>\n",
       "      <td>13.888889</td>\n",
       "    </tr>\n",
       "    <tr>\n",
       "      <th>...</th>\n",
       "      <td>...</td>\n",
       "      <td>...</td>\n",
       "      <td>...</td>\n",
       "    </tr>\n",
       "    <tr>\n",
       "      <th>240</th>\n",
       "      <td>240</td>\n",
       "      <td>6</td>\n",
       "      <td>16.666667</td>\n",
       "    </tr>\n",
       "    <tr>\n",
       "      <th>241</th>\n",
       "      <td>241</td>\n",
       "      <td>5</td>\n",
       "      <td>13.888889</td>\n",
       "    </tr>\n",
       "    <tr>\n",
       "      <th>242</th>\n",
       "      <td>242</td>\n",
       "      <td>3</td>\n",
       "      <td>8.333333</td>\n",
       "    </tr>\n",
       "    <tr>\n",
       "      <th>243</th>\n",
       "      <td>243</td>\n",
       "      <td>2</td>\n",
       "      <td>5.555556</td>\n",
       "    </tr>\n",
       "    <tr>\n",
       "      <th>244</th>\n",
       "      <td>244</td>\n",
       "      <td>3</td>\n",
       "      <td>8.333333</td>\n",
       "    </tr>\n",
       "  </tbody>\n",
       "</table>\n",
       "<p>245 rows × 3 columns</p>\n",
       "</div>"
      ],
      "text/plain": [
       "     case  n_missing  pct_missing\n",
       "0       0          6    16.666667\n",
       "1       1          6    16.666667\n",
       "2       2          7    19.444444\n",
       "3       3         12    33.333333\n",
       "4       4          5    13.888889\n",
       "..    ...        ...          ...\n",
       "240   240          6    16.666667\n",
       "241   241          5    13.888889\n",
       "242   242          3     8.333333\n",
       "243   243          2     5.555556\n",
       "244   244          3     8.333333\n",
       "\n",
       "[245 rows x 3 columns]"
      ]
     },
     "execution_count": 28,
     "metadata": {},
     "output_type": "execute_result"
    }
   ],
   "source": [
    "riskfactors_df.missing.missing_case_summary()"
   ]
  },
  {
   "cell_type": "markdown",
   "metadata": {
    "cell_id": "77eb6477918a49c087bc8e36d96a9dcf",
    "deepnote_app_coordinates": {
     "h": 5,
     "w": 12,
     "x": 0,
     "y": 301
    },
    "deepnote_cell_type": "markdown",
    "deepnote_to_be_reexecuted": false,
    "execution_start": 1657058318230,
    "source_hash": "b623e53d",
    "tags": []
   },
   "source": [
    "###### Tabulación del resumen por caso"
   ]
  },
  {
   "cell_type": "code",
   "execution_count": 29,
   "metadata": {
    "cell_id": "7c1d34687a58412a821e5ca47425ecc5",
    "deepnote_app_coordinates": {
     "h": 5,
     "w": 12,
     "x": 0,
     "y": 307
    },
    "deepnote_cell_type": "code",
    "deepnote_to_be_reexecuted": false,
    "execution_millis": 361,
    "execution_start": 1659559209484,
    "output_cleared": true,
    "source_hash": "c0d99fbf",
    "tags": []
   },
   "outputs": [
    {
     "data": {
      "text/html": [
       "<div>\n",
       "<style scoped>\n",
       "    .dataframe tbody tr th:only-of-type {\n",
       "        vertical-align: middle;\n",
       "    }\n",
       "\n",
       "    .dataframe tbody tr th {\n",
       "        vertical-align: top;\n",
       "    }\n",
       "\n",
       "    .dataframe thead th {\n",
       "        text-align: right;\n",
       "    }\n",
       "</style>\n",
       "<table border=\"1\" class=\"dataframe\">\n",
       "  <thead>\n",
       "    <tr style=\"text-align: right;\">\n",
       "      <th></th>\n",
       "      <th>n_missing_in_case</th>\n",
       "      <th>n_cases</th>\n",
       "      <th>pct_case</th>\n",
       "    </tr>\n",
       "  </thead>\n",
       "  <tbody>\n",
       "    <tr>\n",
       "      <th>0</th>\n",
       "      <td>4</td>\n",
       "      <td>49</td>\n",
       "      <td>20.000000</td>\n",
       "    </tr>\n",
       "    <tr>\n",
       "      <th>1</th>\n",
       "      <td>5</td>\n",
       "      <td>45</td>\n",
       "      <td>18.367347</td>\n",
       "    </tr>\n",
       "    <tr>\n",
       "      <th>2</th>\n",
       "      <td>7</td>\n",
       "      <td>39</td>\n",
       "      <td>15.918367</td>\n",
       "    </tr>\n",
       "    <tr>\n",
       "      <th>3</th>\n",
       "      <td>6</td>\n",
       "      <td>36</td>\n",
       "      <td>14.693878</td>\n",
       "    </tr>\n",
       "    <tr>\n",
       "      <th>4</th>\n",
       "      <td>2</td>\n",
       "      <td>31</td>\n",
       "      <td>12.653061</td>\n",
       "    </tr>\n",
       "    <tr>\n",
       "      <th>5</th>\n",
       "      <td>3</td>\n",
       "      <td>30</td>\n",
       "      <td>12.244898</td>\n",
       "    </tr>\n",
       "    <tr>\n",
       "      <th>6</th>\n",
       "      <td>1</td>\n",
       "      <td>4</td>\n",
       "      <td>1.632653</td>\n",
       "    </tr>\n",
       "    <tr>\n",
       "      <th>7</th>\n",
       "      <td>8</td>\n",
       "      <td>3</td>\n",
       "      <td>1.224490</td>\n",
       "    </tr>\n",
       "    <tr>\n",
       "      <th>8</th>\n",
       "      <td>12</td>\n",
       "      <td>3</td>\n",
       "      <td>1.224490</td>\n",
       "    </tr>\n",
       "    <tr>\n",
       "      <th>9</th>\n",
       "      <td>15</td>\n",
       "      <td>2</td>\n",
       "      <td>0.816327</td>\n",
       "    </tr>\n",
       "    <tr>\n",
       "      <th>10</th>\n",
       "      <td>9</td>\n",
       "      <td>1</td>\n",
       "      <td>0.408163</td>\n",
       "    </tr>\n",
       "    <tr>\n",
       "      <th>11</th>\n",
       "      <td>11</td>\n",
       "      <td>1</td>\n",
       "      <td>0.408163</td>\n",
       "    </tr>\n",
       "    <tr>\n",
       "      <th>12</th>\n",
       "      <td>10</td>\n",
       "      <td>1</td>\n",
       "      <td>0.408163</td>\n",
       "    </tr>\n",
       "  </tbody>\n",
       "</table>\n",
       "</div>"
      ],
      "text/plain": [
       "    n_missing_in_case  n_cases   pct_case\n",
       "0                   4       49  20.000000\n",
       "1                   5       45  18.367347\n",
       "2                   7       39  15.918367\n",
       "3                   6       36  14.693878\n",
       "4                   2       31  12.653061\n",
       "5                   3       30  12.244898\n",
       "6                   1        4   1.632653\n",
       "7                   8        3   1.224490\n",
       "8                  12        3   1.224490\n",
       "9                  15        2   0.816327\n",
       "10                  9        1   0.408163\n",
       "11                 11        1   0.408163\n",
       "12                 10        1   0.408163"
      ]
     },
     "execution_count": 29,
     "metadata": {},
     "output_type": "execute_result"
    }
   ],
   "source": [
    "riskfactors_df.missing.missing_case_table()"
   ]
  },
  {
   "cell_type": "markdown",
   "metadata": {
    "cell_id": "27585c63ab28405da1d947146ca96eb0",
    "deepnote_app_coordinates": {
     "h": 5,
     "w": 12,
     "x": 0,
     "y": 313
    },
    "deepnote_cell_type": "markdown",
    "deepnote_to_be_reexecuted": false,
    "execution_start": 1657058318284,
    "source_hash": "b623e53d",
    "tags": []
   },
   "source": [
    "### Intervalos de valores faltantes"
   ]
  },
  {
   "cell_type": "code",
   "execution_count": 30,
   "metadata": {
    "cell_id": "7cde3d5db0e84f72b748b460b4545b84",
    "deepnote_app_coordinates": {
     "h": 5,
     "w": 12,
     "x": 0,
     "y": 319
    },
    "deepnote_cell_type": "code",
    "deepnote_to_be_reexecuted": false,
    "execution_millis": 231,
    "execution_start": 1659559209615,
    "output_cleared": true,
    "source_hash": "9b5c5d5d",
    "tags": []
   },
   "outputs": [
    {
     "data": {
      "text/html": [
       "<div>\n",
       "<style scoped>\n",
       "    .dataframe tbody tr th:only-of-type {\n",
       "        vertical-align: middle;\n",
       "    }\n",
       "\n",
       "    .dataframe tbody tr th {\n",
       "        vertical-align: top;\n",
       "    }\n",
       "\n",
       "    .dataframe thead th {\n",
       "        text-align: right;\n",
       "    }\n",
       "</style>\n",
       "<table border=\"1\" class=\"dataframe\">\n",
       "  <thead>\n",
       "    <tr style=\"text-align: right;\">\n",
       "      <th></th>\n",
       "      <th>span_counter</th>\n",
       "      <th>n_missing</th>\n",
       "      <th>n_complete</th>\n",
       "      <th>pct_missing</th>\n",
       "      <th>pct_complete</th>\n",
       "    </tr>\n",
       "  </thead>\n",
       "  <tbody>\n",
       "    <tr>\n",
       "      <th>0</th>\n",
       "      <td>0</td>\n",
       "      <td>1</td>\n",
       "      <td>49</td>\n",
       "      <td>2.000000</td>\n",
       "      <td>98.000000</td>\n",
       "    </tr>\n",
       "    <tr>\n",
       "      <th>1</th>\n",
       "      <td>1</td>\n",
       "      <td>5</td>\n",
       "      <td>45</td>\n",
       "      <td>10.000000</td>\n",
       "      <td>90.000000</td>\n",
       "    </tr>\n",
       "    <tr>\n",
       "      <th>2</th>\n",
       "      <td>2</td>\n",
       "      <td>1</td>\n",
       "      <td>49</td>\n",
       "      <td>2.000000</td>\n",
       "      <td>98.000000</td>\n",
       "    </tr>\n",
       "    <tr>\n",
       "      <th>3</th>\n",
       "      <td>3</td>\n",
       "      <td>1</td>\n",
       "      <td>49</td>\n",
       "      <td>2.000000</td>\n",
       "      <td>98.000000</td>\n",
       "    </tr>\n",
       "    <tr>\n",
       "      <th>4</th>\n",
       "      <td>4</td>\n",
       "      <td>2</td>\n",
       "      <td>43</td>\n",
       "      <td>4.444444</td>\n",
       "      <td>95.555556</td>\n",
       "    </tr>\n",
       "  </tbody>\n",
       "</table>\n",
       "</div>"
      ],
      "text/plain": [
       "   span_counter  n_missing  n_complete  pct_missing  pct_complete\n",
       "0             0          1          49     2.000000     98.000000\n",
       "1             1          5          45    10.000000     90.000000\n",
       "2             2          1          49     2.000000     98.000000\n",
       "3             3          1          49     2.000000     98.000000\n",
       "4             4          2          43     4.444444     95.555556"
      ]
     },
     "execution_count": 30,
     "metadata": {},
     "output_type": "execute_result"
    }
   ],
   "source": [
    "(\n",
    "    riskfactors_df\n",
    "    .missing\n",
    "    .missing_variable_span(\n",
    "        variable=\"weight_lbs\",\n",
    "        span_every=50\n",
    "    )\n",
    ")"
   ]
  },
  {
   "cell_type": "markdown",
   "metadata": {
    "cell_id": "e17690876b7b48b9a59d5590e9da2104",
    "deepnote_app_coordinates": {
     "h": 5,
     "w": 12,
     "x": 0,
     "y": 325
    },
    "deepnote_cell_type": "markdown",
    "tags": []
   },
   "source": [
    "### _Run length_ de valores faltantes"
   ]
  },
  {
   "cell_type": "code",
   "execution_count": 31,
   "metadata": {
    "cell_id": "375fd3dd5bc7487385a414ed3bcb9bfc",
    "deepnote_app_coordinates": {
     "h": 5,
     "w": 12,
     "x": 0,
     "y": 331
    },
    "deepnote_cell_type": "code",
    "deepnote_to_be_reexecuted": false,
    "execution_millis": 244,
    "execution_start": 1659559209629,
    "output_cleared": true,
    "source_hash": "567e3afe",
    "tags": []
   },
   "outputs": [
    {
     "data": {
      "text/html": [
       "<div>\n",
       "<style scoped>\n",
       "    .dataframe tbody tr th:only-of-type {\n",
       "        vertical-align: middle;\n",
       "    }\n",
       "\n",
       "    .dataframe tbody tr th {\n",
       "        vertical-align: top;\n",
       "    }\n",
       "\n",
       "    .dataframe thead th {\n",
       "        text-align: right;\n",
       "    }\n",
       "</style>\n",
       "<table border=\"1\" class=\"dataframe\">\n",
       "  <thead>\n",
       "    <tr style=\"text-align: right;\">\n",
       "      <th></th>\n",
       "      <th>run_length</th>\n",
       "      <th>is_na</th>\n",
       "    </tr>\n",
       "  </thead>\n",
       "  <tbody>\n",
       "    <tr>\n",
       "      <th>0</th>\n",
       "      <td>14</td>\n",
       "      <td>complete</td>\n",
       "    </tr>\n",
       "    <tr>\n",
       "      <th>1</th>\n",
       "      <td>1</td>\n",
       "      <td>missing</td>\n",
       "    </tr>\n",
       "    <tr>\n",
       "      <th>2</th>\n",
       "      <td>45</td>\n",
       "      <td>complete</td>\n",
       "    </tr>\n",
       "    <tr>\n",
       "      <th>3</th>\n",
       "      <td>1</td>\n",
       "      <td>missing</td>\n",
       "    </tr>\n",
       "    <tr>\n",
       "      <th>4</th>\n",
       "      <td>5</td>\n",
       "      <td>complete</td>\n",
       "    </tr>\n",
       "    <tr>\n",
       "      <th>5</th>\n",
       "      <td>1</td>\n",
       "      <td>missing</td>\n",
       "    </tr>\n",
       "    <tr>\n",
       "      <th>6</th>\n",
       "      <td>12</td>\n",
       "      <td>complete</td>\n",
       "    </tr>\n",
       "    <tr>\n",
       "      <th>7</th>\n",
       "      <td>1</td>\n",
       "      <td>missing</td>\n",
       "    </tr>\n",
       "    <tr>\n",
       "      <th>8</th>\n",
       "      <td>10</td>\n",
       "      <td>complete</td>\n",
       "    </tr>\n",
       "    <tr>\n",
       "      <th>9</th>\n",
       "      <td>2</td>\n",
       "      <td>missing</td>\n",
       "    </tr>\n",
       "    <tr>\n",
       "      <th>10</th>\n",
       "      <td>40</td>\n",
       "      <td>complete</td>\n",
       "    </tr>\n",
       "    <tr>\n",
       "      <th>11</th>\n",
       "      <td>1</td>\n",
       "      <td>missing</td>\n",
       "    </tr>\n",
       "    <tr>\n",
       "      <th>12</th>\n",
       "      <td>53</td>\n",
       "      <td>complete</td>\n",
       "    </tr>\n",
       "    <tr>\n",
       "      <th>13</th>\n",
       "      <td>1</td>\n",
       "      <td>missing</td>\n",
       "    </tr>\n",
       "    <tr>\n",
       "      <th>14</th>\n",
       "      <td>14</td>\n",
       "      <td>complete</td>\n",
       "    </tr>\n",
       "    <tr>\n",
       "      <th>15</th>\n",
       "      <td>1</td>\n",
       "      <td>missing</td>\n",
       "    </tr>\n",
       "    <tr>\n",
       "      <th>16</th>\n",
       "      <td>31</td>\n",
       "      <td>complete</td>\n",
       "    </tr>\n",
       "    <tr>\n",
       "      <th>17</th>\n",
       "      <td>1</td>\n",
       "      <td>missing</td>\n",
       "    </tr>\n",
       "    <tr>\n",
       "      <th>18</th>\n",
       "      <td>11</td>\n",
       "      <td>complete</td>\n",
       "    </tr>\n",
       "  </tbody>\n",
       "</table>\n",
       "</div>"
      ],
      "text/plain": [
       "    run_length     is_na\n",
       "0           14  complete\n",
       "1            1   missing\n",
       "2           45  complete\n",
       "3            1   missing\n",
       "4            5  complete\n",
       "5            1   missing\n",
       "6           12  complete\n",
       "7            1   missing\n",
       "8           10  complete\n",
       "9            2   missing\n",
       "10          40  complete\n",
       "11           1   missing\n",
       "12          53  complete\n",
       "13           1   missing\n",
       "14          14  complete\n",
       "15           1   missing\n",
       "16          31  complete\n",
       "17           1   missing\n",
       "18          11  complete"
      ]
     },
     "execution_count": 31,
     "metadata": {},
     "output_type": "execute_result"
    }
   ],
   "source": [
    "(\n",
    "    riskfactors_df\n",
    "    .missing\n",
    "    .missing_variable_run(\n",
    "        variable=\"weight_lbs\"\n",
    "    )\n",
    ")"
   ]
  },
  {
   "cell_type": "markdown",
   "metadata": {
    "cell_id": "74f2c6b6f5824127877ce4ff854b345d",
    "deepnote_app_coordinates": {
     "h": 5,
     "w": 12,
     "x": 0,
     "y": 337
    },
    "deepnote_cell_type": "markdown",
    "tags": []
   },
   "source": [
    "## Visualización inicial de valores faltantes"
   ]
  },
  {
   "cell_type": "markdown",
   "metadata": {
    "cell_id": "a426c9169ed44dc4931d5353f86d3cb2",
    "deepnote_app_coordinates": {
     "h": 5,
     "w": 12,
     "x": 0,
     "y": 343
    },
    "deepnote_cell_type": "markdown",
    "tags": []
   },
   "source": [
    "### Variable"
   ]
  },
  {
   "cell_type": "code",
   "execution_count": 32,
   "metadata": {
    "cell_id": "7f64e90682624f98a57b1802049a5e19",
    "deepnote_app_coordinates": {
     "h": 5,
     "w": 12,
     "x": 0,
     "y": 349
    },
    "deepnote_cell_type": "code",
    "deepnote_to_be_reexecuted": false,
    "execution_millis": 314,
    "execution_start": 1659559209870,
    "output_cleared": true,
    "source_hash": "b0a18cea",
    "tags": []
   },
   "outputs": [
    {
     "data": {
      "image/png": "[encoded data removed]",
      "text/plain": [
       "<Figure size 1000x1000 with 1 Axes>"
      ]
     },
     "metadata": {},
     "output_type": "display_data"
    }
   ],
   "source": [
    "riskfactors_df.missing.missing_variable_plot()"
   ]
  },
  {
   "cell_type": "markdown",
   "metadata": {
    "cell_id": "584cdff05bb64da784df4508545b3004",
    "deepnote_app_coordinates": {
     "h": 5,
     "w": 12,
     "x": 0,
     "y": 355
    },
    "deepnote_cell_type": "markdown",
    "tags": []
   },
   "source": [
    "### Casos / Observaciones / Filas"
   ]
  },
  {
   "cell_type": "code",
   "execution_count": 33,
   "metadata": {
    "cell_id": "009e087355c643d29c78873726e05420",
    "deepnote_app_coordinates": {
     "h": 5,
     "w": 12,
     "x": 0,
     "y": 361
    },
    "deepnote_cell_type": "code",
    "deepnote_to_be_reexecuted": false,
    "execution_millis": 605,
    "execution_start": 1659559210184,
    "output_cleared": true,
    "source_hash": "aede1a50",
    "tags": []
   },
   "outputs": [
    {
     "data": {
      "image/png": "[encoded data removed]",
      "text/plain": [
       "<Figure size 500x500 with 1 Axes>"
      ]
     },
     "metadata": {},
     "output_type": "display_data"
    }
   ],
   "source": [
    "riskfactors_df.missing.missing_case_plot()"
   ]
  },
  {
   "cell_type": "code",
   "execution_count": 34,
   "metadata": {
    "cell_id": "6104c571b16e4e539b75c66c97fef5ab",
    "deepnote_app_coordinates": {
     "h": 5,
     "w": 12,
     "x": 0,
     "y": 367
    },
    "deepnote_cell_type": "code",
    "deepnote_to_be_reexecuted": false,
    "execution_millis": 786,
    "execution_start": 1659559210791,
    "output_cleared": true,
    "source_hash": "fe8ed53",
    "tags": []
   },
   "outputs": [
    {
     "data": {
      "image/png": "[encoded data removed]",
      "text/plain": [
       "<Figure size 1000x1000 with 1 Axes>"
      ]
     },
     "metadata": {},
     "output_type": "display_data"
    }
   ],
   "source": [
    "riskfactors_df.missing.missing_variable_span_plot(variable=\"weight_lbs\", span_every=10)"
   ]
  },
  {
   "cell_type": "code",
   "execution_count": 35,
   "metadata": {
    "cell_id": "719871f5f029480d9bc6aeb28c75d74b",
    "deepnote_app_coordinates": {
     "h": 5,
     "w": 12,
     "x": 0,
     "y": 373
    },
    "deepnote_cell_type": "code",
    "deepnote_to_be_reexecuted": false,
    "execution_millis": 4611,
    "execution_start": 1659559211581,
    "output_cleared": true,
    "source_hash": "eee1c7ee",
    "tags": []
   },
   "outputs": [
    {
     "data": {
      "text/plain": [
       "<Axes: >"
      ]
     },
     "execution_count": 35,
     "metadata": {},
     "output_type": "execute_result"
    },
    {
     "data": {
      "image/png": "[encoded data removed]",
      "text/plain": [
       "<Figure size 2500x1000 with 3 Axes>"
      ]
     },
     "metadata": {},
     "output_type": "display_data"
    }
   ],
   "source": [
    "missingno.bar(df=riskfactors_df)"
   ]
  },
  {
   "cell_type": "code",
   "execution_count": 36,
   "metadata": {
    "cell_id": "28da5adbacf94b6dab89bae126c4f412",
    "deepnote_app_coordinates": {
     "h": 5,
     "w": 12,
     "x": 0,
     "y": 379
    },
    "deepnote_cell_type": "code",
    "deepnote_to_be_reexecuted": false,
    "execution_millis": 815,
    "execution_start": 1659559216216,
    "output_cleared": true,
    "source_hash": "7cfb3bf9",
    "tags": []
   },
   "outputs": [
    {
     "data": {
      "text/plain": [
       "<Axes: >"
      ]
     },
     "execution_count": 36,
     "metadata": {},
     "output_type": "execute_result"
    },
    {
     "data": {
      "image/png": "[encoded data removed]",
      "text/plain": [
       "<Figure size 2500x1000 with 2 Axes>"
      ]
     },
     "metadata": {},
     "output_type": "display_data"
    }
   ],
   "source": [
    "missingno.matrix(df=riskfactors_df)"
   ]
  },
  {
   "cell_type": "code",
   "execution_count": 37,
   "metadata": {
    "cell_id": "8e69e9f24db041fc943f936537ca9513",
    "deepnote_app_coordinates": {
     "h": 5,
     "w": 12,
     "x": 0,
     "y": 385
    },
    "deepnote_cell_type": "code",
    "deepnote_to_be_reexecuted": false,
    "execution_millis": 436,
    "execution_start": 1659559217031,
    "output_cleared": true,
    "source_hash": "cfdeab7b",
    "tags": []
   },
   "outputs": [
    {
     "name": "stderr",
     "output_type": "stream",
     "text": [
      "d:\\Platzi\\ManejoDatosFaltantes\\DeteccionExploracion\\venv\\Lib\\site-packages\\upsetplot\\plotting.py:795: FutureWarning: A value is trying to be set on a copy of a DataFrame or Series through chained assignment using an inplace method.\n",
      "The behavior will change in pandas 3.0. This inplace method will never work because the intermediate object on which we are setting values always behaves as a copy.\n",
      "\n",
      "For example, when doing 'df[col].method(value, inplace=True)', try using 'df.method({col: value}, inplace=True)' or df[col] = df[col].method(value) instead, to perform the operation inplace on the original object.\n",
      "\n",
      "\n",
      "  styles[\"linewidth\"].fillna(1, inplace=True)\n",
      "d:\\Platzi\\ManejoDatosFaltantes\\DeteccionExploracion\\venv\\Lib\\site-packages\\upsetplot\\plotting.py:796: FutureWarning: A value is trying to be set on a copy of a DataFrame or Series through chained assignment using an inplace method.\n",
      "The behavior will change in pandas 3.0. This inplace method will never work because the intermediate object on which we are setting values always behaves as a copy.\n",
      "\n",
      "For example, when doing 'df[col].method(value, inplace=True)', try using 'df.method({col: value}, inplace=True)' or df[col] = df[col].method(value) instead, to perform the operation inplace on the original object.\n",
      "\n",
      "\n",
      "  styles[\"facecolor\"].fillna(self._facecolor, inplace=True)\n",
      "d:\\Platzi\\ManejoDatosFaltantes\\DeteccionExploracion\\venv\\Lib\\site-packages\\upsetplot\\plotting.py:797: FutureWarning: A value is trying to be set on a copy of a DataFrame or Series through chained assignment using an inplace method.\n",
      "The behavior will change in pandas 3.0. This inplace method will never work because the intermediate object on which we are setting values always behaves as a copy.\n",
      "\n",
      "For example, when doing 'df[col].method(value, inplace=True)', try using 'df.method({col: value}, inplace=True)' or df[col] = df[col].method(value) instead, to perform the operation inplace on the original object.\n",
      "\n",
      "\n",
      "  styles[\"edgecolor\"].fillna(styles[\"facecolor\"], inplace=True)\n",
      "d:\\Platzi\\ManejoDatosFaltantes\\DeteccionExploracion\\venv\\Lib\\site-packages\\upsetplot\\plotting.py:798: FutureWarning: A value is trying to be set on a copy of a DataFrame or Series through chained assignment using an inplace method.\n",
      "The behavior will change in pandas 3.0. This inplace method will never work because the intermediate object on which we are setting values always behaves as a copy.\n",
      "\n",
      "For example, when doing 'df[col].method(value, inplace=True)', try using 'df.method({col: value}, inplace=True)' or df[col] = df[col].method(value) instead, to perform the operation inplace on the original object.\n",
      "\n",
      "\n",
      "  styles[\"linestyle\"].fillna(\"solid\", inplace=True)\n"
     ]
    },
    {
     "data": {
      "text/plain": [
       "{'matrix': <Axes: >,\n",
       " 'shading': <Axes: >,\n",
       " 'totals': <Axes: >,\n",
       " 'intersections': <Axes: ylabel='Intersection size'>}"
      ]
     },
     "execution_count": 37,
     "metadata": {},
     "output_type": "execute_result"
    },
    {
     "data": {
      "image/png": "[encoded data removed]",
      "text/plain": [
       "<Figure size 666.667x500 with 4 Axes>"
      ]
     },
     "metadata": {},
     "output_type": "display_data"
    }
   ],
   "source": [
    "riskfactors_df.missing.missing_upsetplot(variables=[\"pregnant\",\"smoke_stop\",\"weight_lbs\"],element_size=40)"
   ]
  },
  {
   "cell_type": "markdown",
   "metadata": {
    "cell_id": "b15b0ab95cb94315a71b95a4f77d15e7",
    "deepnote_app_coordinates": {
     "h": 5,
     "w": 12,
     "x": 0,
     "y": 391
    },
    "deepnote_cell_type": "markdown",
    "tags": []
   },
   "source": [
    "## Codificación de valores faltantes"
   ]
  },
  {
   "cell_type": "markdown",
   "metadata": {
    "cell_id": "131ca9c7298d43cba1614429aed38069",
    "deepnote_app_coordinates": {
     "h": 5,
     "w": 12,
     "x": 0,
     "y": 0
    },
    "deepnote_cell_type": "markdown",
    "tags": []
   },
   "source": [
    "<div class=\"alert alert-warning\", role=\"alert\">\n",
    "    <b style=\"font-size: 1.5em;\">🚧 Advertencia</b>\n",
    "    <p>\n",
    "    Al igual que cada persona es una nueva puerta a un mundo diferente, los <b>valores faltantes</b> existen en diferentes formas y colores. Al trabajar con valores faltantes será crítico entender sus distintas representaciones. A pesar de que el conjunto de datos de trabajo pareciera que no contiene valores faltantes, deberás ser capaz de ir más allá de lo observado a simple vista para remover el manto tras el cual se esconde lo desconocido.\n",
    "    </p>\n",
    "</div>"
   ]
  },
  {
   "cell_type": "markdown",
   "metadata": {
    "cell_id": "1a359d96723b4e07957504a64d8dd27e",
    "deepnote_app_coordinates": {
     "h": 5,
     "w": 12,
     "x": 0,
     "y": 403
    },
    "deepnote_cell_type": "markdown",
    "tags": []
   },
   "source": [
    "### Valores comúnmente asociados a valores faltantes"
   ]
  },
  {
   "cell_type": "markdown",
   "metadata": {
    "cell_id": "dd4cfeaa3271462297b59a6091e1be05",
    "deepnote_app_coordinates": {
     "h": 5,
     "w": 12,
     "x": 0,
     "y": 409
    },
    "deepnote_cell_type": "markdown",
    "tags": []
   },
   "source": [
    "#### Cadenas de texto"
   ]
  },
  {
   "cell_type": "code",
   "execution_count": 38,
   "metadata": {
    "cell_id": "0710edd968064c39bf983736da8f20ee",
    "deepnote_app_coordinates": {
     "h": 5,
     "w": 12,
     "x": 0,
     "y": 415
    },
    "deepnote_cell_type": "code",
    "deepnote_to_be_reexecuted": false,
    "execution_millis": 2,
    "execution_start": 1659559217461,
    "output_cleared": true,
    "source_hash": "f4b445a7",
    "tags": []
   },
   "outputs": [],
   "source": [
    "common_na_strings = (\n",
    "    \"missing\",\n",
    "    \"NA\",\n",
    "    \"N A\",\n",
    "    \"N/A\",\n",
    "    \"#N/A\",\n",
    "    \"NA \",\n",
    "    \" NA\",\n",
    "    \"N /A\",\n",
    "    \"N / A\",\n",
    "    \" N / A\",\n",
    "    \"N / A \",\n",
    "    \"na\",\n",
    "    \"n a\",\n",
    "    \"n/a\",\n",
    "    \"na \",\n",
    "    \" na\",\n",
    "    \"n /a\",\n",
    "    \"n / a\",\n",
    "    \" a / a\",\n",
    "    \"n / a \",\n",
    "    \"NULL\",\n",
    "    \"null\",\n",
    "    \"\",\n",
    "    \"?\",\n",
    "    \"*\",\n",
    "    \".\",\n",
    ")"
   ]
  },
  {
   "cell_type": "markdown",
   "metadata": {
    "cell_id": "b1db40e05773434494878c44a61fe22b",
    "deepnote_app_coordinates": {
     "h": 5,
     "w": 12,
     "x": 0,
     "y": 421
    },
    "deepnote_cell_type": "markdown",
    "tags": []
   },
   "source": [
    "#### Números"
   ]
  },
  {
   "cell_type": "code",
   "execution_count": 39,
   "metadata": {
    "cell_id": "ab1f258819d7484ab708a08928f27adf",
    "deepnote_app_coordinates": {
     "h": 5,
     "w": 12,
     "x": 0,
     "y": 427
    },
    "deepnote_cell_type": "code",
    "deepnote_to_be_reexecuted": false,
    "execution_millis": 0,
    "execution_start": 1659559217471,
    "output_cleared": true,
    "source_hash": "f7e4ca",
    "tags": []
   },
   "outputs": [],
   "source": [
    "common_na_numbers = (-9, -99, -999, -9999, 9999, 66, 77, 88, -1)"
   ]
  },
  {
   "cell_type": "markdown",
   "metadata": {
    "cell_id": "59b2bad5844a4fe380cf53081d57cf25",
    "deepnote_app_coordinates": {
     "h": 5,
     "w": 12,
     "x": 0,
     "y": 433
    },
    "deepnote_cell_type": "markdown",
    "tags": []
   },
   "source": [
    "### ¿Cómo encontrar los valores comúnmente asociados a valores faltantes?"
   ]
  },
  {
   "cell_type": "code",
   "execution_count": 40,
   "metadata": {
    "cell_id": "0b2afe9d10e84d35922a7e28780ab238",
    "deepnote_app_coordinates": {
     "h": 5,
     "w": 12,
     "x": 0,
     "y": 439
    },
    "deepnote_cell_type": "code",
    "deepnote_to_be_reexecuted": false,
    "execution_millis": 105,
    "execution_start": 1659559217476,
    "output_cleared": true,
    "source_hash": "a8fbfadb",
    "tags": []
   },
   "outputs": [
    {
     "data": {
      "text/html": [
       "<div>\n",
       "<style scoped>\n",
       "    .dataframe tbody tr th:only-of-type {\n",
       "        vertical-align: middle;\n",
       "    }\n",
       "\n",
       "    .dataframe tbody tr th {\n",
       "        vertical-align: top;\n",
       "    }\n",
       "\n",
       "    .dataframe thead th {\n",
       "        text-align: right;\n",
       "    }\n",
       "</style>\n",
       "<table border=\"1\" class=\"dataframe\">\n",
       "  <thead>\n",
       "    <tr style=\"text-align: right;\">\n",
       "      <th></th>\n",
       "      <th>x</th>\n",
       "      <th>y</th>\n",
       "      <th>z</th>\n",
       "    </tr>\n",
       "  </thead>\n",
       "  <tbody>\n",
       "    <tr>\n",
       "      <th>0</th>\n",
       "      <td>1</td>\n",
       "      <td>A</td>\n",
       "      <td>-100</td>\n",
       "    </tr>\n",
       "    <tr>\n",
       "      <th>1</th>\n",
       "      <td>3</td>\n",
       "      <td>N/A</td>\n",
       "      <td>-99</td>\n",
       "    </tr>\n",
       "    <tr>\n",
       "      <th>2</th>\n",
       "      <td>NA</td>\n",
       "      <td>NA</td>\n",
       "      <td>-98</td>\n",
       "    </tr>\n",
       "    <tr>\n",
       "      <th>3</th>\n",
       "      <td>-99</td>\n",
       "      <td>E</td>\n",
       "      <td>-101</td>\n",
       "    </tr>\n",
       "    <tr>\n",
       "      <th>4</th>\n",
       "      <td>-98</td>\n",
       "      <td>F</td>\n",
       "      <td>-1</td>\n",
       "    </tr>\n",
       "    <tr>\n",
       "      <th>5</th>\n",
       "      <td>-99</td>\n",
       "      <td>G</td>\n",
       "      <td>-1</td>\n",
       "    </tr>\n",
       "  </tbody>\n",
       "</table>\n",
       "</div>"
      ],
      "text/plain": [
       "     x    y    z\n",
       "0    1    A -100\n",
       "1    3  N/A  -99\n",
       "2   NA   NA  -98\n",
       "3  -99    E -101\n",
       "4  -98    F   -1\n",
       "5  -99    G   -1"
      ]
     },
     "execution_count": 40,
     "metadata": {},
     "output_type": "execute_result"
    }
   ],
   "source": [
    "missing_data_example_df = pd.DataFrame.from_dict(\n",
    "    dict(\n",
    "        x = [1, 3, \"NA\", -99, -98, -99],\n",
    "        y = [\"A\", \"N/A\", \"NA\", \"E\", \"F\", \"G\"],\n",
    "        z = [-100, -99, -98, -101, -1, -1]\n",
    "    )\n",
    ")\n",
    "\n",
    "missing_data_example_df"
   ]
  },
  {
   "cell_type": "code",
   "execution_count": 41,
   "metadata": {
    "cell_id": "ffe78fb4c1a4475ebf653220c3764227",
    "deepnote_app_coordinates": {
     "h": 5,
     "w": 12,
     "x": 0,
     "y": 445
    },
    "deepnote_cell_type": "code",
    "deepnote_to_be_reexecuted": false,
    "execution_millis": 816,
    "execution_start": 1659559217506,
    "output_cleared": true,
    "source_hash": "42f6552a",
    "tags": []
   },
   "outputs": [
    {
     "data": {
      "text/plain": [
       "np.int64(0)"
      ]
     },
     "execution_count": 41,
     "metadata": {},
     "output_type": "execute_result"
    }
   ],
   "source": [
    "missing_data_example_df.missing.number_missing()"
   ]
  },
  {
   "cell_type": "markdown",
   "metadata": {
    "cell_id": "8d58958f025a4f78a5a538c65e0b6e89",
    "deepnote_app_coordinates": {
     "h": 5,
     "w": 12,
     "x": 0,
     "y": 451
    },
    "deepnote_cell_type": "markdown",
    "tags": []
   },
   "source": [
    "#### Revisar tipos de datos"
   ]
  },
  {
   "cell_type": "code",
   "execution_count": 42,
   "metadata": {
    "cell_id": "10655c3d3e9640aea49313f170629b30",
    "deepnote_app_coordinates": {
     "h": 5,
     "w": 12,
     "x": 0,
     "y": 457
    },
    "deepnote_cell_type": "code",
    "deepnote_to_be_reexecuted": false,
    "execution_millis": 885,
    "execution_start": 1659559217517,
    "output_cleared": true,
    "source_hash": "6b954eb2",
    "tags": []
   },
   "outputs": [
    {
     "data": {
      "text/plain": [
       "x    object\n",
       "y    object\n",
       "z     int64\n",
       "dtype: object"
      ]
     },
     "execution_count": 42,
     "metadata": {},
     "output_type": "execute_result"
    }
   ],
   "source": [
    "missing_data_example_df.dtypes"
   ]
  },
  {
   "cell_type": "markdown",
   "metadata": {
    "cell_id": "7bfa613272e84d46824524c5ac32c962",
    "deepnote_app_coordinates": {
     "h": 5,
     "w": 12,
     "x": 0,
     "y": 463
    },
    "deepnote_cell_type": "markdown",
    "tags": []
   },
   "source": [
    "#### Revisar valores únicos de los datos"
   ]
  },
  {
   "cell_type": "code",
   "execution_count": 43,
   "metadata": {
    "cell_id": "09b86715a9a3478f9c910345c703d4f8",
    "deepnote_app_coordinates": {
     "h": 5,
     "w": 12,
     "x": 0,
     "y": 469
    },
    "deepnote_cell_type": "code",
    "deepnote_to_be_reexecuted": false,
    "execution_millis": 0,
    "execution_start": 1659559217532,
    "output_cleared": true,
    "source_hash": "7cc2ac10",
    "tags": []
   },
   "outputs": [
    {
     "data": {
      "text/plain": [
       "array([1, 3, 'NA', -99, -98], dtype=object)"
      ]
     },
     "execution_count": 43,
     "metadata": {},
     "output_type": "execute_result"
    }
   ],
   "source": [
    "missing_data_example_df.x.unique()"
   ]
  },
  {
   "cell_type": "code",
   "execution_count": 44,
   "metadata": {
    "cell_id": "7f3467f3191d4f75ae1a0a67a4547f5b",
    "deepnote_app_coordinates": {
     "h": 5,
     "w": 12,
     "x": 0,
     "y": 475
    },
    "deepnote_cell_type": "code",
    "deepnote_to_be_reexecuted": false,
    "execution_millis": 861,
    "execution_start": 1659559217545,
    "output_cleared": true,
    "source_hash": "4b39843d",
    "tags": []
   },
   "outputs": [
    {
     "data": {
      "text/plain": [
       "x     [1, 3, NA, -99, -98]\n",
       "y    [A, N/A, NA, E, F, G]\n",
       "dtype: object"
      ]
     },
     "execution_count": 44,
     "metadata": {},
     "output_type": "execute_result"
    }
   ],
   "source": [
    "(\n",
    "    missing_data_example_df\n",
    "    .select_dtypes(object)\n",
    "    .apply(pd.unique)\n",
    ")"
   ]
  },
  {
   "cell_type": "markdown",
   "metadata": {
    "cell_id": "b601ef81bdfa457ba629edffb7fe2cc0",
    "deepnote_app_coordinates": {
     "h": 5,
     "w": 12,
     "x": 0,
     "y": 481
    },
    "deepnote_cell_type": "markdown",
    "tags": []
   },
   "source": [
    "### Sustituyendo valores comúnmente asociados a valores faltantes"
   ]
  },
  {
   "cell_type": "markdown",
   "metadata": {
    "cell_id": "85f34df7a6b24cf6a43a7cc7409d7bc2",
    "deepnote_app_coordinates": {
     "h": 5,
     "w": 12,
     "x": 0,
     "y": 487
    },
    "deepnote_cell_type": "markdown",
    "tags": []
   },
   "source": [
    "#### Sustitución desde la lectura de datos"
   ]
  },
  {
   "cell_type": "code",
   "execution_count": 45,
   "metadata": {
    "cell_id": "0d606b11de644267b0cfd1a458d53267",
    "deepnote_app_coordinates": {
     "h": 5,
     "w": 12,
     "x": 0,
     "y": 493
    },
    "deepnote_cell_type": "code",
    "deepnote_to_be_reexecuted": false,
    "execution_millis": 823,
    "execution_start": 1659559217583,
    "output_cleared": true,
    "source_hash": "3f2dd524",
    "tags": []
   },
   "outputs": [],
   "source": [
    "# Esto no me seirve poque no pillo el csv\n",
    "# pd.read_csv(\n",
    "#     './data/missing_data_enconding_example.csv',\n",
    "#     na_filter=True,\n",
    "#     na_values=[-99, -1]\n",
    "# )"
   ]
  },
  {
   "cell_type": "markdown",
   "metadata": {
    "cell_id": "95f97530c59a44b080ea385798bf9e64",
    "deepnote_app_coordinates": {
     "h": 5,
     "w": 12,
     "x": 0,
     "y": 499
    },
    "deepnote_cell_type": "markdown",
    "tags": []
   },
   "source": [
    "#### Sustitución global"
   ]
  },
  {
   "cell_type": "code",
   "execution_count": 46,
   "metadata": {
    "cell_id": "cc28d030ecc04a15bd1d4e29f698a8ad",
    "deepnote_app_coordinates": {
     "h": 5,
     "w": 12,
     "x": 0,
     "y": 505
    },
    "deepnote_cell_type": "code",
    "deepnote_to_be_reexecuted": false,
    "execution_millis": 822,
    "execution_start": 1659559217584,
    "output_cleared": true,
    "source_hash": "8184b4e9",
    "tags": []
   },
   "outputs": [
    {
     "name": "stderr",
     "output_type": "stream",
     "text": [
      "C:\\Users\\Asus\\AppData\\Local\\Temp\\ipykernel_26556\\3715063018.py:3: FutureWarning: Downcasting behavior in `replace` is deprecated and will be removed in a future version. To retain the old behavior, explicitly call `result.infer_objects(copy=False)`. To opt-in to the future behavior, set `pd.set_option('future.no_silent_downcasting', True)`\n",
      "  .replace(\n"
     ]
    },
    {
     "data": {
      "text/html": [
       "<div>\n",
       "<style scoped>\n",
       "    .dataframe tbody tr th:only-of-type {\n",
       "        vertical-align: middle;\n",
       "    }\n",
       "\n",
       "    .dataframe tbody tr th {\n",
       "        vertical-align: top;\n",
       "    }\n",
       "\n",
       "    .dataframe thead th {\n",
       "        text-align: right;\n",
       "    }\n",
       "</style>\n",
       "<table border=\"1\" class=\"dataframe\">\n",
       "  <thead>\n",
       "    <tr style=\"text-align: right;\">\n",
       "      <th></th>\n",
       "      <th>x</th>\n",
       "      <th>y</th>\n",
       "      <th>z</th>\n",
       "    </tr>\n",
       "  </thead>\n",
       "  <tbody>\n",
       "    <tr>\n",
       "      <th>0</th>\n",
       "      <td>1.0</td>\n",
       "      <td>A</td>\n",
       "      <td>-100.0</td>\n",
       "    </tr>\n",
       "    <tr>\n",
       "      <th>1</th>\n",
       "      <td>3.0</td>\n",
       "      <td>N/A</td>\n",
       "      <td>NaN</td>\n",
       "    </tr>\n",
       "    <tr>\n",
       "      <th>2</th>\n",
       "      <td>NaN</td>\n",
       "      <td>NaN</td>\n",
       "      <td>-98.0</td>\n",
       "    </tr>\n",
       "    <tr>\n",
       "      <th>3</th>\n",
       "      <td>NaN</td>\n",
       "      <td>E</td>\n",
       "      <td>-101.0</td>\n",
       "    </tr>\n",
       "    <tr>\n",
       "      <th>4</th>\n",
       "      <td>-98.0</td>\n",
       "      <td>F</td>\n",
       "      <td>-1.0</td>\n",
       "    </tr>\n",
       "    <tr>\n",
       "      <th>5</th>\n",
       "      <td>NaN</td>\n",
       "      <td>G</td>\n",
       "      <td>-1.0</td>\n",
       "    </tr>\n",
       "  </tbody>\n",
       "</table>\n",
       "</div>"
      ],
      "text/plain": [
       "      x    y      z\n",
       "0   1.0    A -100.0\n",
       "1   3.0  N/A    NaN\n",
       "2   NaN  NaN  -98.0\n",
       "3   NaN    E -101.0\n",
       "4 -98.0    F   -1.0\n",
       "5   NaN    G   -1.0"
      ]
     },
     "execution_count": 46,
     "metadata": {},
     "output_type": "execute_result"
    }
   ],
   "source": [
    "(\n",
    "    missing_data_example_df\n",
    "    .replace(\n",
    "        to_replace=[-99, 'NA'],\n",
    "        value= np.nan\n",
    "    )\n",
    ")"
   ]
  },
  {
   "cell_type": "markdown",
   "metadata": {
    "cell_id": "cd6ec8c24c3544d0ac22b057a91d2d11",
    "deepnote_app_coordinates": {
     "h": 5,
     "w": 12,
     "x": 0,
     "y": 511
    },
    "deepnote_cell_type": "markdown",
    "tags": []
   },
   "source": [
    "#### Sustitución dirigida"
   ]
  },
  {
   "cell_type": "code",
   "execution_count": 47,
   "metadata": {
    "cell_id": "40018e85dd254959be79cf8dc216cc54",
    "deepnote_app_coordinates": {
     "h": 5,
     "w": 12,
     "x": 0,
     "y": 517
    },
    "deepnote_cell_type": "code",
    "deepnote_to_be_reexecuted": false,
    "execution_millis": 777,
    "execution_start": 1659559217630,
    "output_cleared": true,
    "source_hash": "48b9230b",
    "tags": []
   },
   "outputs": [
    {
     "data": {
      "text/html": [
       "<div>\n",
       "<style scoped>\n",
       "    .dataframe tbody tr th:only-of-type {\n",
       "        vertical-align: middle;\n",
       "    }\n",
       "\n",
       "    .dataframe tbody tr th {\n",
       "        vertical-align: top;\n",
       "    }\n",
       "\n",
       "    .dataframe thead th {\n",
       "        text-align: right;\n",
       "    }\n",
       "</style>\n",
       "<table border=\"1\" class=\"dataframe\">\n",
       "  <thead>\n",
       "    <tr style=\"text-align: right;\">\n",
       "      <th></th>\n",
       "      <th>x</th>\n",
       "      <th>y</th>\n",
       "      <th>z</th>\n",
       "    </tr>\n",
       "  </thead>\n",
       "  <tbody>\n",
       "    <tr>\n",
       "      <th>0</th>\n",
       "      <td>1</td>\n",
       "      <td>A</td>\n",
       "      <td>-100</td>\n",
       "    </tr>\n",
       "    <tr>\n",
       "      <th>1</th>\n",
       "      <td>3</td>\n",
       "      <td>N/A</td>\n",
       "      <td>-99</td>\n",
       "    </tr>\n",
       "    <tr>\n",
       "      <th>2</th>\n",
       "      <td>NA</td>\n",
       "      <td>NA</td>\n",
       "      <td>-98</td>\n",
       "    </tr>\n",
       "    <tr>\n",
       "      <th>3</th>\n",
       "      <td>NaN</td>\n",
       "      <td>E</td>\n",
       "      <td>-101</td>\n",
       "    </tr>\n",
       "    <tr>\n",
       "      <th>4</th>\n",
       "      <td>-98</td>\n",
       "      <td>F</td>\n",
       "      <td>-1</td>\n",
       "    </tr>\n",
       "    <tr>\n",
       "      <th>5</th>\n",
       "      <td>NaN</td>\n",
       "      <td>G</td>\n",
       "      <td>-1</td>\n",
       "    </tr>\n",
       "  </tbody>\n",
       "</table>\n",
       "</div>"
      ],
      "text/plain": [
       "     x    y    z\n",
       "0    1    A -100\n",
       "1    3  N/A  -99\n",
       "2   NA   NA  -98\n",
       "3  NaN    E -101\n",
       "4  -98    F   -1\n",
       "5  NaN    G   -1"
      ]
     },
     "execution_count": 47,
     "metadata": {},
     "output_type": "execute_result"
    }
   ],
   "source": [
    "(\n",
    "    missing_data_example_df\n",
    "    .replace(\n",
    "        to_replace={\n",
    "            'x':{\n",
    "                -99:np.nan\n",
    "            }\n",
    "        }\n",
    "    )\n",
    ")"
   ]
  },
  {
   "cell_type": "markdown",
   "metadata": {
    "cell_id": "eb9c03cd591c43d1a8d7e1f5ae73bc6a",
    "deepnote_app_coordinates": {
     "h": 5,
     "w": 12,
     "x": 0,
     "y": 523
    },
    "deepnote_cell_type": "markdown",
    "tags": []
   },
   "source": [
    "## Conversión de valores faltantes implícitos a explícitos"
   ]
  },
  {
   "cell_type": "markdown",
   "metadata": {
    "cell_id": "fcdeea22dbc5464ab4305ceaa171914a",
    "deepnote_app_coordinates": {
     "h": 5,
     "w": 12,
     "x": 0,
     "y": 529
    },
    "deepnote_cell_type": "markdown",
    "deepnote_to_be_reexecuted": false,
    "execution_millis": 2,
    "execution_start": 1657070588973,
    "source_hash": "978d2856",
    "tags": []
   },
   "source": [
    "<div class=\"alert alert-warning\", role=\"alert\">\n",
    "    <b style=\"font-size: 1.5em;\">🚧 Advertencia</b>\n",
    "    <br>\n",
    "    <br>\n",
    "    <p>\n",
    "        <i>\n",
    "        \"<b>Implícito</b> se refiere a todo aquello que se entiende que está incluido\n",
    "        pero sin ser expresado de forma directa o explícitamente.\"\n",
    "        </i>\n",
    "    </p>\n",
    "    <p>\n",
    "    Un <code>valor faltante implícito</code> indica que el valor faltante <b>debería estar incluido</b>\n",
    "    en el conjunto de datos del análisis, <b>sin que éste lo diga</b> o lo <b>especifique</b>.\n",
    "    Por lo general, son valores que podemos encontrar al pivotar nuestros datos\n",
    "    o contabilizar el número de apariciones de combinaciones de las variables de estudio.\n",
    "    </p>\n",
    "</div>"
   ]
  },
  {
   "cell_type": "code",
   "execution_count": 60,
   "metadata": {
    "cell_id": "7bfa972b5c074f0ab91fd45bfa3c1898",
    "deepnote_app_coordinates": {
     "h": 5,
     "w": 12,
     "x": 0,
     "y": 535
    },
    "deepnote_cell_type": "code",
    "deepnote_to_be_reexecuted": false,
    "execution_millis": 764,
    "execution_start": 1659559217644,
    "output_cleared": true,
    "source_hash": "887afa1e",
    "tags": []
   },
   "outputs": [
    {
     "data": {
      "text/html": [
       "<div>\n",
       "<style scoped>\n",
       "    .dataframe tbody tr th:only-of-type {\n",
       "        vertical-align: middle;\n",
       "    }\n",
       "\n",
       "    .dataframe tbody tr th {\n",
       "        vertical-align: top;\n",
       "    }\n",
       "\n",
       "    .dataframe thead th {\n",
       "        text-align: right;\n",
       "    }\n",
       "</style>\n",
       "<table border=\"1\" class=\"dataframe\">\n",
       "  <thead>\n",
       "    <tr style=\"text-align: right;\">\n",
       "      <th></th>\n",
       "      <th>name</th>\n",
       "      <th>time</th>\n",
       "      <th>value</th>\n",
       "    </tr>\n",
       "  </thead>\n",
       "  <tbody>\n",
       "    <tr>\n",
       "      <th>0</th>\n",
       "      <td>lynn</td>\n",
       "      <td>morning</td>\n",
       "      <td>350.0</td>\n",
       "    </tr>\n",
       "    <tr>\n",
       "      <th>1</th>\n",
       "      <td>lynn</td>\n",
       "      <td>afternoon</td>\n",
       "      <td>310.0</td>\n",
       "    </tr>\n",
       "    <tr>\n",
       "      <th>2</th>\n",
       "      <td>lynn</td>\n",
       "      <td>night</td>\n",
       "      <td>NaN</td>\n",
       "    </tr>\n",
       "    <tr>\n",
       "      <th>3</th>\n",
       "      <td>zelda</td>\n",
       "      <td>morning</td>\n",
       "      <td>320.0</td>\n",
       "    </tr>\n",
       "  </tbody>\n",
       "</table>\n",
       "</div>"
      ],
      "text/plain": [
       "    name       time  value\n",
       "0   lynn    morning  350.0\n",
       "1   lynn  afternoon  310.0\n",
       "2   lynn      night    NaN\n",
       "3  zelda    morning  320.0"
      ]
     },
     "execution_count": 60,
     "metadata": {},
     "output_type": "execute_result"
    }
   ],
   "source": [
    "implicit_to_explicit_df = pd.DataFrame.from_dict(\n",
    "    data={\n",
    "        \"name\": [\"lynn\", \"lynn\", \"lynn\", \"zelda\"],\n",
    "        \"time\": [\"morning\", \"afternoon\", \"night\", \"morning\"],\n",
    "        \"value\": [350, 310, np.nan, 320]\n",
    "    }\n",
    ")\n",
    "\n",
    "implicit_to_explicit_df"
   ]
  },
  {
   "cell_type": "markdown",
   "metadata": {
    "cell_id": "1a850b747c1f4bf28dfa0e8c6b24a37d",
    "deepnote_app_coordinates": {
     "h": 5,
     "w": 12,
     "x": 0,
     "y": 541
    },
    "deepnote_cell_type": "markdown",
    "tags": []
   },
   "source": [
    "### Estrategias para la identificación de valores faltantes implícitos"
   ]
  },
  {
   "cell_type": "markdown",
   "metadata": {
    "cell_id": "e7daa15deb8f4316bf909c10778214bd",
    "deepnote_app_coordinates": {
     "h": 5,
     "w": 12,
     "x": 0,
     "y": 547
    },
    "deepnote_cell_type": "markdown",
    "tags": []
   },
   "source": [
    "#### Pivotar la tabla de datos"
   ]
  },
  {
   "cell_type": "code",
   "execution_count": 61,
   "metadata": {
    "cell_id": "2d8b19ea0bde42698f4ed46b908af877",
    "deepnote_app_coordinates": {
     "h": 5,
     "w": 12,
     "x": 0,
     "y": 553
    },
    "deepnote_cell_type": "code",
    "deepnote_to_be_reexecuted": false,
    "execution_millis": 782,
    "execution_start": 1659559217662,
    "output_cleared": true,
    "source_hash": "167293a",
    "tags": []
   },
   "outputs": [
    {
     "name": "stderr",
     "output_type": "stream",
     "text": [
      "d:\\Platzi\\ManejoDatosFaltantes\\DeteccionExploracion\\venv\\Lib\\site-packages\\pandas_flavor\\register.py:157: FutureWarning: This function will be deprecated in a 1.x release. Please use `pd.DataFrame.pivot` instead.\n",
      "  return method(self._obj, *args, **kwargs)\n"
     ]
    },
    {
     "data": {
      "text/html": [
       "<div>\n",
       "<style scoped>\n",
       "    .dataframe tbody tr th:only-of-type {\n",
       "        vertical-align: middle;\n",
       "    }\n",
       "\n",
       "    .dataframe tbody tr th {\n",
       "        vertical-align: top;\n",
       "    }\n",
       "\n",
       "    .dataframe thead th {\n",
       "        text-align: right;\n",
       "    }\n",
       "</style>\n",
       "<table border=\"1\" class=\"dataframe\">\n",
       "  <thead>\n",
       "    <tr style=\"text-align: right;\">\n",
       "      <th></th>\n",
       "      <th>name</th>\n",
       "      <th>afternoon</th>\n",
       "      <th>morning</th>\n",
       "      <th>night</th>\n",
       "    </tr>\n",
       "  </thead>\n",
       "  <tbody>\n",
       "    <tr>\n",
       "      <th>0</th>\n",
       "      <td>lynn</td>\n",
       "      <td>310.0</td>\n",
       "      <td>350.0</td>\n",
       "      <td>NaN</td>\n",
       "    </tr>\n",
       "    <tr>\n",
       "      <th>1</th>\n",
       "      <td>zelda</td>\n",
       "      <td>NaN</td>\n",
       "      <td>320.0</td>\n",
       "      <td>NaN</td>\n",
       "    </tr>\n",
       "  </tbody>\n",
       "</table>\n",
       "</div>"
      ],
      "text/plain": [
       "    name  afternoon  morning  night\n",
       "0   lynn      310.0    350.0    NaN\n",
       "1  zelda        NaN    320.0    NaN"
      ]
     },
     "execution_count": 61,
     "metadata": {},
     "output_type": "execute_result"
    }
   ],
   "source": [
    "implicit_to_explicit_df.pivot_wider(\n",
    "    index=\"name\",\n",
    "    names_from=\"time\",\n",
    "    values_from=\"value\"\n",
    ")"
   ]
  },
  {
   "cell_type": "markdown",
   "metadata": {
    "cell_id": "aaca9cb595904e44858b4f6b44566a80",
    "deepnote_app_coordinates": {
     "h": 5,
     "w": 12,
     "x": 0,
     "y": 559
    },
    "deepnote_cell_type": "markdown",
    "tags": []
   },
   "source": [
    "#### Cuantificar ocurrencias de n-tuplas"
   ]
  },
  {
   "cell_type": "code",
   "execution_count": 66,
   "metadata": {
    "cell_id": "91f8262162d14cd497d0e96e5b9aae04",
    "deepnote_app_coordinates": {
     "h": 5,
     "w": 12,
     "x": 0,
     "y": 565
    },
    "deepnote_cell_type": "code",
    "deepnote_to_be_reexecuted": false,
    "execution_millis": 745,
    "execution_start": 1659559217699,
    "output_cleared": true,
    "source_hash": "6c0b9a1a",
    "tags": []
   },
   "outputs": [
    {
     "data": {
      "text/html": [
       "<div>\n",
       "<style scoped>\n",
       "    .dataframe tbody tr th:only-of-type {\n",
       "        vertical-align: middle;\n",
       "    }\n",
       "\n",
       "    .dataframe tbody tr th {\n",
       "        vertical-align: top;\n",
       "    }\n",
       "\n",
       "    .dataframe thead th {\n",
       "        text-align: right;\n",
       "    }\n",
       "</style>\n",
       "<table border=\"1\" class=\"dataframe\">\n",
       "  <thead>\n",
       "    <tr style=\"text-align: right;\">\n",
       "      <th></th>\n",
       "      <th>name</th>\n",
       "      <th>n</th>\n",
       "    </tr>\n",
       "  </thead>\n",
       "  <tbody>\n",
       "    <tr>\n",
       "      <th>1</th>\n",
       "      <td>zelda</td>\n",
       "      <td>1</td>\n",
       "    </tr>\n",
       "  </tbody>\n",
       "</table>\n",
       "</div>"
      ],
      "text/plain": [
       "    name  n\n",
       "1  zelda  1"
      ]
     },
     "execution_count": 66,
     "metadata": {},
     "output_type": "execute_result"
    }
   ],
   "source": [
    "implicit_to_explicit_df.value_counts(\n",
    "    subset=[\"name\"]\n",
    ").reset_index(name=\"n\").query(\"n < 3\")"
   ]
  },
  {
   "cell_type": "markdown",
   "metadata": {
    "cell_id": "23c7beab16e54abebc10d3f58ad39aa0",
    "deepnote_app_coordinates": {
     "h": 5,
     "w": 12,
     "x": 0,
     "y": 571
    },
    "deepnote_cell_type": "markdown",
    "tags": []
   },
   "source": [
    "### Exponer filas faltantes implícitas a explícitas"
   ]
  },
  {
   "cell_type": "markdown",
   "metadata": {
    "cell_id": "9bd2eb86fc134f25b2f5eb01d2d6bb47",
    "deepnote_app_coordinates": {
     "h": 5,
     "w": 12,
     "x": 0,
     "y": 661
    },
    "deepnote_cell_type": "markdown",
    "tags": []
   },
   "source": [
    "<div class=\"alert alert-info\">\n",
    "    <b style=\"font-size: 1.5em;\">📘 Información</b>\n",
    "    <p>\n",
    "       <a href=\"https://pyjanitor-devs.github.io/pyjanitor/api/functions/#janitor.functions.complete.complete\", class=\"alert-link\"><code>janitor.complete()</code></a> está modelada a partir de la función <a href=\"https://tidyr.tidyverse.org/reference/complete.html\", class=\"alert-link\"><code>complete()</code></a> del paquete <a href=\"https://tidyr.tidyverse.org/index.html\", class=\"alert-link\"><code>tidyr</code></a> y es un <i>wrapper</i> alrededor de <a href=\"https://pyjanitordevs.github.io/pyjanitor/api/functions/#janitor.functions.expand_grid.expand_grid\", class=\"alert-link\"><code>janitor.expand_grid()</code></a>, <a href=\"https://pandas.pydata.org/docs/reference/api/pandas.DataFrame.merge.html\", class=\"alert-link\"><code>pd.merge()</code></a> y <a href=\"https://pandas.pydata.org/docs/reference/api/pandas.DataFrame.merge.html\", class=\"alert-link\"><code>pd.fillna()</code></a>. En cierto modo, es lo contrario de <a href=\"https://pandas.pydata.org/docs/reference/api/pandas.DataFrame.dropna.html\", class=\"alert-link\"><code>pd.dropna()</code></a>, ya que expone implícitamente las filas que faltan.\n",
    "    </p>\n",
    "    <p>\n",
    "    Son posibles combinaciones de nombres de columnas o una lista/tupla de nombres de columnas, o incluso un  diccionario de nombres de columna y nuevos valores.\n",
    "    </p>\n",
    "    <p>\n",
    "    Las columnas <a href=\"https://pandas.pydata.org/docs/user_guide/advanced.html\"><code>MultiIndex</code></a> no son complatibles.\n",
    "    </p>\n",
    "</div>"
   ]
  },
  {
   "cell_type": "markdown",
   "metadata": {
    "cell_id": "9feb2ca918aa45bb8ee4a67b114fc3ef",
    "deepnote_app_coordinates": {
     "h": 5,
     "w": 12,
     "x": 0,
     "y": 0
    },
    "deepnote_cell_type": "markdown",
    "tags": []
   },
   "source": [
    "#### Exponer n-tuplas de valores faltantes\n",
    "\n",
    "Ejemplo, encontrar los pares faltantes de `name` y `time`."
   ]
  },
  {
   "cell_type": "code",
   "execution_count": null,
   "metadata": {
    "cell_id": "ea97ccb476c8491085b6f8ef4089899a",
    "deepnote_cell_type": "code",
    "deepnote_to_be_reexecuted": false,
    "execution_millis": 696,
    "execution_start": 1659559217748,
    "output_cleared": true,
    "source_hash": "963c2013",
    "tags": []
   },
   "outputs": [],
   "source": []
  },
  {
   "cell_type": "markdown",
   "metadata": {
    "cell_id": "b5145b65318f4c97bb90b9f0320a6ce9",
    "deepnote_app_coordinates": {
     "h": 5,
     "w": 12,
     "x": 0,
     "y": 577
    },
    "deepnote_cell_type": "markdown",
    "tags": []
   },
   "source": [
    "#### Limitar la exposición de n-tuplas de valores faltantes"
   ]
  },
  {
   "cell_type": "code",
   "execution_count": null,
   "metadata": {
    "cell_id": "21ccea05b45f4836abd7ad6ad4224b69",
    "deepnote_cell_type": "code",
    "deepnote_to_be_reexecuted": false,
    "execution_millis": 685,
    "execution_start": 1659559217759,
    "output_cleared": true,
    "source_hash": "5bb4753e",
    "tags": []
   },
   "outputs": [],
   "source": []
  },
  {
   "cell_type": "markdown",
   "metadata": {
    "cell_id": "a4fc6cc2201e4a4cb0fd7386ed8e7dfb",
    "deepnote_app_coordinates": {
     "h": 5,
     "w": 12,
     "x": 0,
     "y": 0
    },
    "deepnote_cell_type": "markdown",
    "tags": []
   },
   "source": [
    "#### Rellenar los valores faltantes"
   ]
  },
  {
   "cell_type": "code",
   "execution_count": null,
   "metadata": {
    "cell_id": "e276db69c12746268a04b1c7a24345e2",
    "deepnote_app_coordinates": {
     "h": 5,
     "w": 12,
     "x": 0,
     "y": 0
    },
    "deepnote_cell_type": "code",
    "deepnote_to_be_reexecuted": false,
    "execution_millis": 607,
    "execution_start": 1659559217838,
    "output_cleared": true,
    "source_hash": "4c53f6d1",
    "tags": []
   },
   "outputs": [],
   "source": []
  },
  {
   "cell_type": "markdown",
   "metadata": {
    "cell_id": "fde6911db2e14f499d2c5d35885b8145",
    "deepnote_app_coordinates": {
     "h": 5,
     "w": 12,
     "x": 0,
     "y": 589
    },
    "deepnote_cell_type": "markdown",
    "tags": []
   },
   "source": [
    "#### Limitar el rellenado de valores faltantes implícitos"
   ]
  },
  {
   "cell_type": "code",
   "execution_count": null,
   "metadata": {
    "cell_id": "972d74bebd4f4d07b07968856f967304",
    "deepnote_app_coordinates": {
     "h": 5,
     "w": 12,
     "x": 0,
     "y": 595
    },
    "deepnote_cell_type": "code",
    "deepnote_to_be_reexecuted": false,
    "execution_millis": 548,
    "execution_start": 1659559217897,
    "output_cleared": true,
    "source_hash": "3c2f05e0",
    "tags": []
   },
   "outputs": [],
   "source": []
  },
  {
   "cell_type": "markdown",
   "metadata": {
    "cell_id": "9fe6b2121f4c412db91beeab035c0e01",
    "deepnote_app_coordinates": {
     "h": 5,
     "w": 12,
     "x": 0,
     "y": 601
    },
    "deepnote_cell_type": "markdown",
    "tags": []
   },
   "source": [
    "## Tipos de valores faltantes"
   ]
  },
  {
   "cell_type": "code",
   "execution_count": null,
   "metadata": {
    "cell_id": "853756cec4d04e24ab36c514aabe1388",
    "deepnote_app_coordinates": {
     "h": 5,
     "w": 12,
     "x": 0,
     "y": 0
    },
    "deepnote_cell_type": "code",
    "deepnote_to_be_reexecuted": false,
    "execution_millis": 510,
    "execution_start": 1659559217945,
    "output_cleared": true,
    "source_hash": "f244bbee",
    "tags": []
   },
   "outputs": [],
   "source": []
  },
  {
   "cell_type": "code",
   "execution_count": null,
   "metadata": {
    "cell_id": "6cb4ffa5fe0e4da4a2fb25a4002d5769",
    "deepnote_app_coordinates": {
     "h": 5,
     "w": 12,
     "x": 0,
     "y": 0
    },
    "deepnote_cell_type": "code",
    "deepnote_to_be_reexecuted": false,
    "execution_millis": 313,
    "execution_start": 1659559218333,
    "output_cleared": true,
    "source_hash": "a9357d40",
    "tags": []
   },
   "outputs": [],
   "source": []
  },
  {
   "cell_type": "markdown",
   "metadata": {
    "cell_id": "5ce5fc2c9cf14f129b86fafe2d1cb9a9",
    "deepnote_app_coordinates": {
     "h": 5,
     "w": 12,
     "x": 0,
     "y": 607
    },
    "deepnote_cell_type": "markdown",
    "tags": []
   },
   "source": [
    "### _Missing Completely At Random_ (MCAR)"
   ]
  },
  {
   "cell_type": "code",
   "execution_count": null,
   "metadata": {
    "cell_id": "f87e43606272494597d0637500985710",
    "deepnote_app_coordinates": {
     "h": 5,
     "w": 12,
     "x": 0,
     "y": 0
    },
    "deepnote_cell_type": "code",
    "deepnote_to_be_reexecuted": false,
    "execution_millis": 520,
    "execution_start": 1659559218651,
    "output_cleared": true,
    "source_hash": "aac828f9",
    "tags": []
   },
   "outputs": [],
   "source": []
  },
  {
   "cell_type": "markdown",
   "metadata": {
    "cell_id": "412415e26b054eb88c4f335501252856",
    "deepnote_app_coordinates": {
     "h": 5,
     "w": 12,
     "x": 0,
     "y": 0
    },
    "deepnote_cell_type": "markdown",
    "tags": []
   },
   "source": [
    "### _Missing At Random_ (MAR)"
   ]
  },
  {
   "cell_type": "code",
   "execution_count": null,
   "metadata": {
    "cell_id": "4944602ac3584374aa8dfe6aa1a31389",
    "deepnote_app_coordinates": {
     "h": 5,
     "w": 12,
     "x": 0,
     "y": 0
    },
    "deepnote_cell_type": "code",
    "deepnote_to_be_reexecuted": false,
    "execution_millis": 511,
    "execution_start": 1659559219170,
    "output_cleared": true,
    "source_hash": "be0dbfe7",
    "tags": []
   },
   "outputs": [],
   "source": []
  },
  {
   "cell_type": "markdown",
   "metadata": {
    "cell_id": "3b5b161c8144497bbff282e45cbe99fd",
    "deepnote_app_coordinates": {
     "h": 5,
     "w": 12,
     "x": 0,
     "y": 0
    },
    "deepnote_cell_type": "markdown",
    "tags": []
   },
   "source": [
    "### _Missing Not At Random_ (MNAR)"
   ]
  },
  {
   "cell_type": "code",
   "execution_count": null,
   "metadata": {
    "cell_id": "b95f58f589bf41a18130f9b72415138e",
    "deepnote_app_coordinates": {
     "h": 5,
     "w": 12,
     "x": 0,
     "y": 0
    },
    "deepnote_cell_type": "code",
    "deepnote_to_be_reexecuted": false,
    "execution_millis": 531,
    "execution_start": 1659559219683,
    "output_cleared": true,
    "source_hash": "d1753aa3",
    "tags": []
   },
   "outputs": [],
   "source": []
  },
  {
   "cell_type": "markdown",
   "metadata": {
    "cell_id": "c61b0f1d1656456fb5537bd491e781f0",
    "deepnote_app_coordinates": {
     "h": 5,
     "w": 12,
     "x": 0,
     "y": 613
    },
    "deepnote_cell_type": "markdown",
    "tags": []
   },
   "source": [
    "## Concepto y aplicación de la matriz de sombras (_i.e._, _shadow matrix_)"
   ]
  },
  {
   "cell_type": "markdown",
   "metadata": {
    "cell_id": "c52d8de41f074be89b32f7046aeae112",
    "deepnote_app_coordinates": {
     "h": 5,
     "w": 12,
     "x": 0,
     "y": 619
    },
    "deepnote_cell_type": "markdown",
    "tags": []
   },
   "source": [
    " ### Construcción de la matriz de sombras"
   ]
  },
  {
   "cell_type": "code",
   "execution_count": null,
   "metadata": {
    "cell_id": "aa2040f321a549a4bdc5068c5ee88f35",
    "deepnote_app_coordinates": {
     "h": 5,
     "w": 12,
     "x": 0,
     "y": 625
    },
    "deepnote_cell_type": "code",
    "deepnote_to_be_reexecuted": false,
    "execution_millis": 1017,
    "execution_start": 1659559220210,
    "output_cleared": true,
    "source_hash": "67f3eee2",
    "tags": []
   },
   "outputs": [],
   "source": []
  },
  {
   "cell_type": "markdown",
   "metadata": {
    "cell_id": "ada129c1b1af4bf2b087ad56af30b13f",
    "deepnote_app_coordinates": {
     "h": 5,
     "w": 12,
     "x": 0,
     "y": 0
    },
    "deepnote_cell_type": "markdown",
    "tags": []
   },
   "source": [
    "### Utilizar función de utilería `bind_shadow_matrix()`"
   ]
  },
  {
   "cell_type": "code",
   "execution_count": null,
   "metadata": {
    "cell_id": "a993f891fa564e928fce67d6e173050a",
    "deepnote_app_coordinates": {
     "h": 5,
     "w": 12,
     "x": 0,
     "y": 631
    },
    "deepnote_cell_type": "code",
    "deepnote_to_be_reexecuted": false,
    "execution_millis": 790,
    "execution_start": 1659559220441,
    "output_cleared": true,
    "source_hash": "4a2c3218",
    "tags": []
   },
   "outputs": [],
   "source": []
  },
  {
   "cell_type": "markdown",
   "metadata": {
    "cell_id": "a76f0749208e48f5a55894f62932808d",
    "deepnote_app_coordinates": {
     "h": 5,
     "w": 12,
     "x": 0,
     "y": 637
    },
    "deepnote_cell_type": "markdown",
    "tags": []
   },
   "source": [
    "### Explorar estadísticos utilizando las nuevas columnas de la matriz de sombras"
   ]
  },
  {
   "cell_type": "code",
   "execution_count": null,
   "metadata": {
    "cell_id": "a795f1e68a06439b8d9d2d40ab8e1787",
    "deepnote_app_coordinates": {
     "h": 5,
     "w": 12,
     "x": 0,
     "y": 643
    },
    "deepnote_cell_type": "code",
    "deepnote_to_be_reexecuted": false,
    "execution_millis": 573,
    "execution_start": 1659559220658,
    "output_cleared": true,
    "source_hash": "cd3345f4",
    "tags": []
   },
   "outputs": [],
   "source": []
  },
  {
   "cell_type": "markdown",
   "metadata": {
    "cell_id": "697f20a070b745bf9a5171c1f618e3db",
    "deepnote_app_coordinates": {
     "h": 5,
     "w": 12,
     "x": 0,
     "y": 0
    },
    "deepnote_cell_type": "markdown",
    "tags": []
   },
   "source": [
    "## Visualización de valores faltantes en una variable"
   ]
  },
  {
   "cell_type": "code",
   "execution_count": null,
   "metadata": {
    "cell_id": "eaa03b2e403441f58d51709bef88b752",
    "deepnote_app_coordinates": {
     "h": 5,
     "w": 12,
     "x": 0,
     "y": 0
    },
    "deepnote_cell_type": "code",
    "deepnote_to_be_reexecuted": false,
    "execution_millis": 510,
    "execution_start": 1659559220725,
    "output_cleared": true,
    "source_hash": "ce52a21a",
    "tags": []
   },
   "outputs": [],
   "source": []
  },
  {
   "cell_type": "code",
   "execution_count": null,
   "metadata": {
    "cell_id": "645b2e8dd06846d1a1b31a549b83396e",
    "deepnote_app_coordinates": {
     "h": 5,
     "w": 12,
     "x": 0,
     "y": 0
    },
    "deepnote_cell_type": "code",
    "deepnote_to_be_reexecuted": false,
    "execution_millis": 631,
    "execution_start": 1659559220964,
    "output_cleared": true,
    "source_hash": "16737753",
    "tags": []
   },
   "outputs": [],
   "source": []
  },
  {
   "cell_type": "code",
   "execution_count": null,
   "metadata": {
    "cell_id": "334b36e499574c13b3d1a9c0ea62735a",
    "deepnote_app_coordinates": {
     "h": 5,
     "w": 12,
     "x": 0,
     "y": 0
    },
    "deepnote_cell_type": "code",
    "deepnote_to_be_reexecuted": false,
    "execution_millis": 778,
    "execution_start": 1659559221602,
    "output_cleared": true,
    "source_hash": "272da33d",
    "tags": []
   },
   "outputs": [],
   "source": []
  },
  {
   "cell_type": "code",
   "execution_count": null,
   "metadata": {
    "cell_id": "028a2b821fb9473b9f19371c3a51a448",
    "deepnote_app_coordinates": {
     "h": 5,
     "w": 12,
     "x": 0,
     "y": 0
    },
    "deepnote_cell_type": "code",
    "deepnote_to_be_reexecuted": false,
    "execution_millis": 1629,
    "execution_start": 1659559222397,
    "output_cleared": true,
    "source_hash": "5cb083a5",
    "tags": []
   },
   "outputs": [],
   "source": []
  },
  {
   "cell_type": "markdown",
   "metadata": {
    "cell_id": "ccaa1825717b44079d35574a2f111d74",
    "deepnote_app_coordinates": {
     "h": 5,
     "w": 12,
     "x": 0,
     "y": 0
    },
    "deepnote_cell_type": "markdown",
    "tags": []
   },
   "source": [
    "## Visualización de valores faltantes en dos variables"
   ]
  },
  {
   "cell_type": "code",
   "execution_count": null,
   "metadata": {
    "cell_id": "12399384cceb410b898c5b0dede61c9e",
    "deepnote_app_coordinates": {
     "h": 5,
     "w": 12,
     "x": 0,
     "y": 0
    },
    "deepnote_cell_type": "code",
    "deepnote_to_be_reexecuted": false,
    "execution_millis": 9,
    "execution_start": 1659559223516,
    "output_cleared": true,
    "source_hash": "2cc270a1",
    "tags": []
   },
   "outputs": [],
   "source": []
  },
  {
   "cell_type": "code",
   "execution_count": null,
   "metadata": {
    "cell_id": "28632903b4d34098b98427ba162be04d",
    "deepnote_app_coordinates": {
     "h": 5,
     "w": 12,
     "x": 0,
     "y": 0
    },
    "deepnote_cell_type": "code",
    "deepnote_to_be_reexecuted": false,
    "execution_millis": 555,
    "execution_start": 1659559223547,
    "output_cleared": true,
    "source_hash": "fab7888",
    "tags": []
   },
   "outputs": [],
   "source": []
  },
  {
   "cell_type": "markdown",
   "metadata": {
    "cell_id": "46596e4b15284ff1a725d18dc0763146",
    "deepnote_app_coordinates": {
     "h": 5,
     "w": 12,
     "x": 0,
     "y": 0
    },
    "deepnote_cell_type": "markdown",
    "tags": []
   },
   "source": [
    "## Correlación de nulidad"
   ]
  },
  {
   "cell_type": "code",
   "execution_count": null,
   "metadata": {
    "cell_id": "751975d1906e4246b50de71217cf79c8",
    "deepnote_cell_type": "code",
    "deepnote_to_be_reexecuted": false,
    "execution_millis": 2899,
    "execution_start": 1659559223975,
    "output_cleared": true,
    "source_hash": "f72e29cc",
    "tags": []
   },
   "outputs": [],
   "source": []
  },
  {
   "cell_type": "code",
   "execution_count": null,
   "metadata": {
    "cell_id": "a5d206e6b8814ef4b4484e60e3c31f36",
    "deepnote_app_coordinates": {
     "h": 5,
     "w": 12,
     "x": 0,
     "y": 0
    },
    "deepnote_cell_type": "code",
    "deepnote_to_be_reexecuted": false,
    "execution_millis": 642,
    "execution_start": 1659559226250,
    "output_cleared": true,
    "source_hash": "a97e7722",
    "tags": []
   },
   "outputs": [],
   "source": []
  },
  {
   "cell_type": "markdown",
   "metadata": {
    "cell_id": "ce2f407d1ae645e48082d5168639ec4d",
    "deepnote_app_coordinates": {
     "h": 5,
     "w": 12,
     "x": 0,
     "y": 0
    },
    "deepnote_cell_type": "markdown",
    "tags": []
   },
   "source": [
    "## Eliminación de valores faltantes"
   ]
  },
  {
   "cell_type": "markdown",
   "metadata": {
    "cell_id": "c882fcf6fd624a8b9a6220ac9f86d046",
    "deepnote_app_coordinates": {
     "h": 5,
     "w": 12,
     "x": 0,
     "y": 0
    },
    "deepnote_cell_type": "markdown",
    "tags": []
   },
   "source": [
    "<div class=\"alert alert-warning\", role=\"alert\">\n",
    "    <b style=\"font-size: 1.5em;\">🚧 Advertencia</b>\n",
    "    <p>\n",
    "    La eliminación de valores faltantes <b>asume</b> que los valores faltantes están perdidos\n",
    "    completamente al azar (<code>MCAR</code>). En cualquier otro caso, realizar una\n",
    "    eliminación de valores faltantes podrá ocasionar <b>sesgos</b> en los\n",
    "    análisis y modelos subsecuentes.\n",
    "    </p>\n",
    "</div>"
   ]
  },
  {
   "cell_type": "markdown",
   "metadata": {
    "cell_id": "0b38263c1ba44449aa7711b5b2960653",
    "deepnote_app_coordinates": {
     "h": 5,
     "w": 12,
     "x": 0,
     "y": 0
    },
    "deepnote_cell_type": "markdown",
    "tags": []
   },
   "source": [
    "Primero observa el número total de observaciones y variables que tiene tu conjunto de datos."
   ]
  },
  {
   "cell_type": "code",
   "execution_count": null,
   "metadata": {
    "cell_id": "e1cf2087dce9461b853e6915820de346",
    "deepnote_app_coordinates": {
     "h": 5,
     "w": 12,
     "x": 0,
     "y": 0
    },
    "deepnote_cell_type": "code",
    "deepnote_to_be_reexecuted": false,
    "execution_millis": 7,
    "execution_start": 1659559226895,
    "output_cleared": true,
    "source_hash": "f161de07",
    "tags": []
   },
   "outputs": [],
   "source": []
  },
  {
   "cell_type": "markdown",
   "metadata": {
    "cell_id": "71248fcd23a14cc2aa59cedc85d06961",
    "deepnote_app_coordinates": {
     "h": 5,
     "w": 12,
     "x": 0,
     "y": 0
    },
    "deepnote_cell_type": "markdown",
    "tags": []
   },
   "source": [
    "### _Pairwise deletion_ (eliminación por pares)"
   ]
  },
  {
   "cell_type": "code",
   "execution_count": null,
   "metadata": {
    "cell_id": "27f94290bffa4703a7e5c7a1142d8bd6",
    "deepnote_app_coordinates": {
     "h": 5,
     "w": 12,
     "x": 0,
     "y": 0
    },
    "deepnote_cell_type": "code",
    "deepnote_to_be_reexecuted": false,
    "execution_millis": 2,
    "execution_start": 1659559226905,
    "output_cleared": true,
    "source_hash": "12e9c2f1",
    "tags": []
   },
   "outputs": [],
   "source": []
  },
  {
   "cell_type": "code",
   "execution_count": null,
   "metadata": {
    "cell_id": "7abfaebd304b4caca7cf8ccc19925360",
    "deepnote_app_coordinates": {
     "h": 5,
     "w": 12,
     "x": 0,
     "y": 0
    },
    "deepnote_cell_type": "code",
    "deepnote_to_be_reexecuted": false,
    "execution_millis": 29,
    "execution_start": 1659559226920,
    "output_cleared": true,
    "source_hash": "9ea257dd",
    "tags": []
   },
   "outputs": [],
   "source": []
  },
  {
   "cell_type": "code",
   "execution_count": null,
   "metadata": {
    "cell_id": "3723c8618c7748d3bdeac99bf18d6513",
    "deepnote_app_coordinates": {
     "h": 5,
     "w": 12,
     "x": 0,
     "y": 0
    },
    "deepnote_cell_type": "code",
    "deepnote_to_be_reexecuted": false,
    "execution_millis": 4,
    "execution_start": 1659559226931,
    "output_cleared": true,
    "source_hash": "6a99d1e",
    "tags": []
   },
   "outputs": [],
   "source": []
  },
  {
   "cell_type": "markdown",
   "metadata": {
    "cell_id": "fc9e1bf84cf44601862a5b1ee5c3d8bb",
    "deepnote_app_coordinates": {
     "h": 5,
     "w": 12,
     "x": 0,
     "y": 0
    },
    "deepnote_cell_type": "markdown",
    "tags": []
   },
   "source": [
    "### _Listwise Deletion or Complete Case_ (Eliminación por lista o caso completo)"
   ]
  },
  {
   "cell_type": "markdown",
   "metadata": {
    "cell_id": "dbe24d2077a24242bf18e44d34448c19",
    "deepnote_app_coordinates": {
     "h": 5,
     "w": 12,
     "x": 0,
     "y": 0
    },
    "deepnote_cell_type": "markdown",
    "tags": []
   },
   "source": [
    "#### Con base en 1 columna"
   ]
  },
  {
   "cell_type": "code",
   "execution_count": null,
   "metadata": {
    "cell_id": "042931c6c02048c69cc7775ec183da66",
    "deepnote_cell_type": "code",
    "deepnote_to_be_reexecuted": false,
    "execution_millis": 5,
    "execution_start": 1659559226973,
    "output_cleared": true,
    "source_hash": "d374f2a1",
    "tags": []
   },
   "outputs": [],
   "source": []
  },
  {
   "cell_type": "markdown",
   "metadata": {
    "cell_id": "d60c196c14594856bf41230118632f36",
    "deepnote_app_coordinates": {
     "h": 5,
     "w": 12,
     "x": 0,
     "y": 0
    },
    "deepnote_cell_type": "markdown",
    "tags": []
   },
   "source": [
    "#### Con base en 2 o más columnas"
   ]
  },
  {
   "cell_type": "code",
   "execution_count": null,
   "metadata": {
    "cell_id": "4ad29f01ed5d4658945287af43289f1c",
    "deepnote_cell_type": "code",
    "deepnote_to_be_reexecuted": false,
    "execution_millis": 4,
    "execution_start": 1659559226974,
    "output_cleared": true,
    "source_hash": "18a20483",
    "tags": []
   },
   "outputs": [],
   "source": []
  },
  {
   "cell_type": "code",
   "execution_count": null,
   "metadata": {
    "cell_id": "bdf2a346776a4c0f8adb5632a3702f28",
    "deepnote_app_coordinates": {
     "h": 5,
     "w": 12,
     "x": 0,
     "y": 0
    },
    "deepnote_cell_type": "code",
    "deepnote_to_be_reexecuted": false,
    "execution_millis": 7,
    "execution_start": 1659559226975,
    "output_cleared": true,
    "source_hash": "2565eb7",
    "tags": []
   },
   "outputs": [],
   "source": []
  },
  {
   "cell_type": "markdown",
   "metadata": {
    "cell_id": "1bf730599def45dba870c846c6cb1a7a",
    "deepnote_app_coordinates": {
     "h": 5,
     "w": 12,
     "x": 0,
     "y": 0
    },
    "deepnote_cell_type": "markdown",
    "tags": []
   },
   "source": [
    "### Representación gráfica tras la eliminación de los valores faltantes"
   ]
  },
  {
   "cell_type": "code",
   "execution_count": null,
   "metadata": {
    "cell_id": "ca88f511e83248a3ab3e730ca414edb0",
    "deepnote_app_coordinates": {
     "h": 5,
     "w": 12,
     "x": 0,
     "y": 0
    },
    "deepnote_cell_type": "code",
    "deepnote_to_be_reexecuted": false,
    "execution_millis": 382,
    "execution_start": 1659559226983,
    "output_cleared": true,
    "source_hash": "7f5e7427",
    "tags": []
   },
   "outputs": [],
   "source": []
  },
  {
   "cell_type": "code",
   "execution_count": null,
   "metadata": {
    "cell_id": "5d6c1e6ebff34868b92953c970d1b0c2",
    "deepnote_app_coordinates": {
     "h": 5,
     "w": 12,
     "x": 0,
     "y": 0
    },
    "deepnote_cell_type": "code",
    "deepnote_to_be_reexecuted": false,
    "execution_millis": 431,
    "execution_start": 1659559227374,
    "output_cleared": true,
    "source_hash": "471b0389",
    "tags": []
   },
   "outputs": [],
   "source": []
  },
  {
   "cell_type": "markdown",
   "metadata": {
    "cell_id": "6f391b0775954e6691ee43defe886531",
    "deepnote_app_coordinates": {
     "h": 5,
     "w": 12,
     "x": 0,
     "y": 0
    },
    "deepnote_cell_type": "markdown",
    "tags": []
   },
   "source": [
    "## Imputación básica de valores faltantes"
   ]
  },
  {
   "cell_type": "markdown",
   "metadata": {
    "cell_id": "a6085d2c93f54c20b1dd2177e16eb208",
    "deepnote_app_coordinates": {
     "h": 5,
     "w": 12,
     "x": 0,
     "y": 0
    },
    "deepnote_cell_type": "markdown",
    "tags": []
   },
   "source": [
    "### Imputación con base en el contexto"
   ]
  },
  {
   "cell_type": "code",
   "execution_count": 49,
   "metadata": {
    "cell_id": "b504b00ff66f44549050212ab29d6b63",
    "deepnote_app_coordinates": {
     "h": 5,
     "w": 12,
     "x": 0,
     "y": 0
    },
    "deepnote_cell_type": "code",
    "deepnote_to_be_reexecuted": false,
    "execution_millis": 0,
    "execution_start": 1659559664019,
    "output_cleared": true,
    "source_hash": "b688ade5",
    "tags": []
   },
   "outputs": [
    {
     "data": {
      "text/html": [
       "<div>\n",
       "<style scoped>\n",
       "    .dataframe tbody tr th:only-of-type {\n",
       "        vertical-align: middle;\n",
       "    }\n",
       "\n",
       "    .dataframe tbody tr th {\n",
       "        vertical-align: top;\n",
       "    }\n",
       "\n",
       "    .dataframe thead th {\n",
       "        text-align: right;\n",
       "    }\n",
       "</style>\n",
       "<table border=\"1\" class=\"dataframe\">\n",
       "  <thead>\n",
       "    <tr style=\"text-align: right;\">\n",
       "      <th></th>\n",
       "      <th>name</th>\n",
       "      <th>time</th>\n",
       "      <th>value</th>\n",
       "    </tr>\n",
       "  </thead>\n",
       "  <tbody>\n",
       "    <tr>\n",
       "      <th>0</th>\n",
       "      <td>lynn</td>\n",
       "      <td>morning</td>\n",
       "      <td>350</td>\n",
       "    </tr>\n",
       "    <tr>\n",
       "      <th>1</th>\n",
       "      <td>NaN</td>\n",
       "      <td>afternoon</td>\n",
       "      <td>310</td>\n",
       "    </tr>\n",
       "    <tr>\n",
       "      <th>2</th>\n",
       "      <td>zelda</td>\n",
       "      <td>morning</td>\n",
       "      <td>320</td>\n",
       "    </tr>\n",
       "    <tr>\n",
       "      <th>3</th>\n",
       "      <td>NaN</td>\n",
       "      <td>afternoon</td>\n",
       "      <td>350</td>\n",
       "    </tr>\n",
       "    <tr>\n",
       "      <th>4</th>\n",
       "      <td>shadowsong</td>\n",
       "      <td>morning</td>\n",
       "      <td>310</td>\n",
       "    </tr>\n",
       "    <tr>\n",
       "      <th>5</th>\n",
       "      <td>NaN</td>\n",
       "      <td>afternoon</td>\n",
       "      <td>320</td>\n",
       "    </tr>\n",
       "  </tbody>\n",
       "</table>\n",
       "</div>"
      ],
      "text/plain": [
       "         name       time  value\n",
       "0        lynn    morning    350\n",
       "1         NaN  afternoon    310\n",
       "2       zelda    morning    320\n",
       "3         NaN  afternoon    350\n",
       "4  shadowsong    morning    310\n",
       "5         NaN  afternoon    320"
      ]
     },
     "execution_count": 49,
     "metadata": {},
     "output_type": "execute_result"
    }
   ],
   "source": [
    "implicit_to_explicit_df = pd.DataFrame(\n",
    "    data={\n",
    "        \"name\": [\"lynn\", np.nan, \"zelda\", np.nan, \"shadowsong\", np.nan],\n",
    "        \"time\": [\"morning\", \"afternoon\", \"morning\", \"afternoon\", \"morning\", \"afternoon\",],\n",
    "        \"value\": [350, 310, 320, 350, 310, 320]\n",
    "    }\n",
    ")\n",
    "\n",
    "implicit_to_explicit_df"
   ]
  },
  {
   "cell_type": "code",
   "execution_count": null,
   "metadata": {
    "cell_id": "887295f7ef094524863624720c6d9b83",
    "deepnote_cell_type": "code",
    "deepnote_to_be_reexecuted": false,
    "execution_millis": 73,
    "execution_start": 1659559765348,
    "output_cleared": true,
    "source_hash": "684872d1",
    "tags": []
   },
   "outputs": [],
   "source": []
  },
  {
   "cell_type": "markdown",
   "metadata": {
    "cell_id": "b80f2ebad24e416aa07ef141b3830218",
    "deepnote_app_coordinates": {
     "h": 5,
     "w": 12,
     "x": 0,
     "y": 0
    },
    "deepnote_cell_type": "markdown",
    "tags": []
   },
   "source": [
    "### Imputación de un único valor"
   ]
  },
  {
   "cell_type": "code",
   "execution_count": null,
   "metadata": {
    "cell_id": "4528ea5606884c968f916b84cb5f4270",
    "deepnote_app_coordinates": {
     "h": 5,
     "w": 12,
     "x": 0,
     "y": 0
    },
    "deepnote_cell_type": "code",
    "deepnote_to_be_reexecuted": false,
    "execution_millis": 866,
    "execution_start": 1659559989174,
    "output_cleared": true,
    "source_hash": "f8a38757",
    "tags": []
   },
   "outputs": [],
   "source": []
  },
  {
   "cell_type": "code",
   "execution_count": null,
   "metadata": {
    "cell_id": "84a4c0915be84867968b5e747dbe06bd",
    "deepnote_app_coordinates": {
     "h": 5,
     "w": 12,
     "x": 0,
     "y": 0
    },
    "deepnote_cell_type": "code",
    "deepnote_to_be_reexecuted": false,
    "execution_millis": 397,
    "execution_start": 1659560335114,
    "output_cleared": true,
    "source_hash": "e565f12",
    "tags": []
   },
   "outputs": [],
   "source": []
  },
  {
   "cell_type": "code",
   "execution_count": null,
   "metadata": {
    "cell_id": "5b168cc0eb73462aa442159b9714510b",
    "deepnote_app_coordinates": {
     "h": 5,
     "w": 12,
     "x": 0,
     "y": 0
    },
    "deepnote_cell_type": "code",
    "deepnote_to_be_reexecuted": false,
    "execution_millis": 1758,
    "execution_start": 1659561288702,
    "output_cleared": true,
    "source_hash": "8176e865",
    "tags": []
   },
   "outputs": [],
   "source": []
  },
  {
   "cell_type": "markdown",
   "metadata": {
    "cell_id": "3ab8e4ddc9314a5c974b523bab679331",
    "deepnote_app_coordinates": {
     "h": 5,
     "w": 12,
     "x": 0,
     "y": 0
    },
    "deepnote_cell_type": "markdown",
    "tags": []
   },
   "source": [
    "## Continúa aprendiendo sobre el manejo de valores faltantes"
   ]
  },
  {
   "cell_type": "markdown",
   "metadata": {
    "cell_id": "622c3131691b4916ab6aa48ba20a4605",
    "deepnote_app_coordinates": {
     "h": 5,
     "w": 12,
     "x": 0,
     "y": 0
    },
    "deepnote_cell_type": "markdown",
    "tags": []
   },
   "source": [
    "<div class=\"alert alert-success\">\n",
    "    <b style=\"font-size: 1.5em;\">✅ ¡Felicidades por terminar el curso!</b>\n",
    "    <p>\n",
    "Has aprendido bastante sobre la exploración y manipulación de valores faltantes.\n",
    "    </p>\n",
    "    <p>\n",
    "Empezaste conociento las principales operaciones al trabajar con valores faltantes. Ahora, eres consciente de que estas operaciones no son universales y cada software decide tratar a los valores faltantes a su conveniencia.\n",
    "    </p>\n",
    "    <p>\n",
    "Y, hablando de conveniencias, comenzaste tu camino en la exploración de valores faltantes a través de una representación universal de qué es lo que faltaba. No obstante, no pasó mucho para darte cuenta de que los valores faltantes pueden existir en formas muy variables. Incluso, en formas en las que no sabemos que nos faltan estos valores en sí mismos. \n",
    "    </p>\n",
    "    <p>\n",
    "Con los valores faltantes ya expuestos, te conviertes en una persona capaz de explorarlos en profundidad de forma estadística y visual. Entendiendo así, los distintos mecanismos que pueden tener los valores faltantes: MCAR, MAR y MNAR.\n",
    "    </p>\n",
    "    <p>\n",
    "A su vez, aprendiste las bases sobre cómo tratarlos a través de la eliminación de elementos o la imputación de valores de una forma básica y sencilla. Por lo tanto, necesitarás continuar tu camino de aprendizaje con un curso que te permita profundizar en estas técnicas de tratamiento para valores faltantes.\n",
    "    </p>\n",
    "    <p>\n",
    "Te recomiendo continuar con mi <a href=\"https://platzi.com/cursos/datos-faltantes-imputacion/\">Curso de Manejo de Datos Faltantes: Imputación</a>. Estoy seguro de que tus habilidades adquiridas hasta el momento mejorarán, permitiéndote realizar análisis cada vez más complejos y cercanos al mundo real.\n",
    "    </p>\n",
    "    <p>\n",
    "    Con mucha alegría por tu logro,\n",
    "   Jesús Vélez Santiago\n",
    "    </p>\n",
    "    \n",
    "</div>"
   ]
  },
  {
   "cell_type": "markdown",
   "metadata": {
    "cell_id": "014c22420a8b4de4afa8375a2707039b",
    "deepnote_app_coordinates": {
     "h": 5,
     "w": 12,
     "x": 0,
     "y": 649
    },
    "deepnote_cell_type": "markdown",
    "tags": []
   },
   "source": [
    "## Información de sesión"
   ]
  },
  {
   "cell_type": "code",
   "execution_count": 50,
   "metadata": {
    "cell_id": "98f8b4de58d84a5ea6f97210adfef5a6",
    "deepnote_app_coordinates": {
     "h": 5,
     "w": 12,
     "x": 0,
     "y": 655
    },
    "deepnote_cell_type": "code",
    "deepnote_to_be_reexecuted": false,
    "execution_millis": 416,
    "execution_start": 1659215529131,
    "output_cleared": true,
    "source_hash": "e8587130",
    "tags": []
   },
   "outputs": [
    {
     "name": "stderr",
     "output_type": "stream",
     "text": [
      "d:\\Platzi\\ManejoDatosFaltantes\\DeteccionExploracion\\venv\\Lib\\site-packages\\session_info\\main.py:213: DeprecationWarning: Accessing jsonschema.__version__ is deprecated and will be removed in a future release. Use importlib.metadata directly to query for jsonschema's version.\n",
      "  mod_version = _find_version(mod.__version__)\n"
     ]
    },
    {
     "data": {
      "text/html": [
       "<details>\n",
       "<summary>Click to view session information</summary>\n",
       "<pre>\n",
       "-----\n",
       "janitor             0.30.0\n",
       "matplotlib          3.10.0\n",
       "missingno           0.5.2\n",
       "numpy               2.2.1\n",
       "pandas              2.2.3\n",
       "pyreadr             0.5.2\n",
       "seaborn             0.13.2\n",
       "session_info        1.0.0\n",
       "upsetplot           0.9.0\n",
       "-----\n",
       "</pre>\n",
       "<details>\n",
       "<summary>Click to view modules imported as dependencies</summary>\n",
       "<pre>\n",
       "PIL                         11.0.0\n",
       "asttokens                   NA\n",
       "attr                        24.3.0\n",
       "attrs                       24.3.0\n",
       "colorama                    0.4.6\n",
       "comm                        0.2.2\n",
       "cycler                      0.12.1\n",
       "cython_runtime              NA\n",
       "dateutil                    2.9.0.post0\n",
       "debugpy                     1.8.11\n",
       "decorator                   5.1.1\n",
       "executing                   2.1.0\n",
       "fastjsonschema              NA\n",
       "ipykernel                   6.29.5\n",
       "jedi                        0.19.2\n",
       "jsonschema                  4.23.0\n",
       "jsonschema_specifications   NA\n",
       "kiwisolver                  1.4.8\n",
       "matplotlib_inline           0.1.7\n",
       "mpl_toolkits                NA\n",
       "multipledispatch            0.6.0\n",
       "natsort                     8.4.0\n",
       "nbformat                    5.10.4\n",
       "packaging                   24.2\n",
       "pandas_flavor               NA\n",
       "parso                       0.8.4\n",
       "platformdirs                4.3.6\n",
       "prompt_toolkit              3.0.48\n",
       "psutil                      6.1.1\n",
       "pure_eval                   0.2.3\n",
       "pydev_ipython               NA\n",
       "pydevconsole                NA\n",
       "pydevd                      3.2.3\n",
       "pydevd_file_utils           NA\n",
       "pydevd_plugins              NA\n",
       "pydevd_tracing              NA\n",
       "pygments                    2.18.0\n",
       "pyparsing                   3.2.1\n",
       "pythoncom                   NA\n",
       "pytz                        2024.2\n",
       "pywin32_bootstrap           NA\n",
       "pywin32_system32            NA\n",
       "pywintypes                  NA\n",
       "referencing                 NA\n",
       "rpds                        NA\n",
       "scipy                       1.14.1\n",
       "six                         1.17.0\n",
       "stack_data                  0.6.3\n",
       "tornado                     6.4.2\n",
       "traitlets                   5.14.3\n",
       "typing_extensions           NA\n",
       "vscode                      NA\n",
       "wcwidth                     0.2.13\n",
       "win32api                    NA\n",
       "win32com                    NA\n",
       "xarray                      2024.11.0\n",
       "zmq                         26.2.0\n",
       "</pre>\n",
       "</details> <!-- seems like this ends pre, so might as well be explicit -->\n",
       "<pre>\n",
       "-----\n",
       "IPython             8.31.0\n",
       "jupyter_client      8.6.3\n",
       "jupyter_core        5.7.2\n",
       "-----\n",
       "Python 3.11.4 (tags/v3.11.4:d2340ef, Jun  7 2023, 05:45:37) [MSC v.1934 64 bit (AMD64)]\n",
       "Windows-10-10.0.19045-SP0\n",
       "-----\n",
       "Session information updated at 2025-01-06 14:04\n",
       "</pre>\n",
       "</details>"
      ],
      "text/plain": [
       "<IPython.core.display.HTML object>"
      ]
     },
     "execution_count": 50,
     "metadata": {},
     "output_type": "execute_result"
    }
   ],
   "source": [
    "session_info.show()"
   ]
  },
  {
   "cell_type": "markdown",
   "metadata": {
    "created_in_deepnote_cell": true,
    "deepnote_cell_type": "markdown",
    "tags": []
   },
   "source": [
    "<a style='text-decoration:none;line-height:16px;display:flex;color:#5B5B62;padding:10px;justify-content:end;' href='https://deepnote.com?utm_source=created-in-deepnote-cell&projectId=694a3d08-7f18-421d-9e2f-c2820a79680e' target=\"_blank\">\n",
    "<img alt='Created in deepnote.com' style='display:inline;max-height:16px;margin:0px;margin-right:7.5px;' src='data:image/svg+xml;base64,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' > </img>\n",
    "Created in <span style='font-weight:600;margin-left:4px;'>Deepnote</span></a>"
   ]
  }
 ],
 "metadata": {
  "deepnote": {},
  "deepnote_app_layout": "article",
  "deepnote_execution_queue": [],
  "deepnote_notebook_id": "42154722e2624d31afecdde77e512199",
  "kernelspec": {
   "display_name": "venv",
   "language": "python",
   "name": "python3"
  },
  "language_info": {
   "codemirror_mode": {
    "name": "ipython",
    "version": 3
   },
   "file_extension": ".py",
   "mimetype": "text/x-python",
   "name": "python",
   "nbconvert_exporter": "python",
   "pygments_lexer": "ipython3",
   "version": "3.11.4"
  },
  "orig_nbformat": 2
 },
 "nbformat": 4,
 "nbformat_minor": 0
}
